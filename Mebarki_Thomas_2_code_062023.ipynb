{
 "cells": [
  {
   "cell_type": "code",
   "execution_count": 4,
   "metadata": {},
   "outputs": [],
   "source": [
    "import pandas as pd\n",
    "pd.options.display.max_columns=200\n",
    "import numpy as np\n",
    "import warnings\n",
    "warnings.filterwarnings('ignore')\n",
    "%matplotlib inline\n",
    "import bs4 as bs\n",
    "import nltk\n",
    "from nltk.corpus import stopwords, words\n",
    "from nltk.stem import WordNetLemmatizer, PorterStemmer\n",
    "from nltk.tokenize import word_tokenize, wordpunct_tokenize, RegexpTokenizer\n",
    "import re\n",
    "from nltk.corpus import stopwords\n",
    "import ast\n",
    "import tiktoken\n",
    "import os\n",
    "os.environ[\"TOKENIZERS_PARALLELISM\"] = \"false\""
   ]
  },
  {
   "cell_type": "code",
   "execution_count": 5,
   "metadata": {},
   "outputs": [],
   "source": [
    "data = pd.read_csv('data/QueryResults.csv')"
   ]
  },
  {
   "cell_type": "code",
   "execution_count": 6,
   "metadata": {},
   "outputs": [],
   "source": [
    "#delete balises html with beautiful soup\n",
    "def clean_html(text):\n",
    "    soup = bs.BeautifulSoup(text, \"html.parser\")\n",
    "    return soup.get_text()\n",
    "\n",
    "data['Body'] = data['Body'].apply(clean_html)"
   ]
  },
  {
   "cell_type": "code",
   "execution_count": 7,
   "metadata": {},
   "outputs": [],
   "source": [
    "data = data[['Title', 'Body', 'Tags', 'Id']]"
   ]
  },
  {
   "cell_type": "code",
   "execution_count": 8,
   "metadata": {},
   "outputs": [
    {
     "data": {
      "text/html": [
       "<div>\n",
       "<style scoped>\n",
       "    .dataframe tbody tr th:only-of-type {\n",
       "        vertical-align: middle;\n",
       "    }\n",
       "\n",
       "    .dataframe tbody tr th {\n",
       "        vertical-align: top;\n",
       "    }\n",
       "\n",
       "    .dataframe thead th {\n",
       "        text-align: right;\n",
       "    }\n",
       "</style>\n",
       "<table border=\"1\" class=\"dataframe\">\n",
       "  <thead>\n",
       "    <tr style=\"text-align: right;\">\n",
       "      <th></th>\n",
       "      <th>Title</th>\n",
       "      <th>Body</th>\n",
       "      <th>Tags</th>\n",
       "      <th>Id</th>\n",
       "    </tr>\n",
       "  </thead>\n",
       "  <tbody>\n",
       "    <tr>\n",
       "      <th>0</th>\n",
       "      <td>how do I calculate a rolling idxmax</td>\n",
       "      <td>consider the pd.Series s\\nimport pandas as pd\\...</td>\n",
       "      <td>&lt;python&gt;&lt;pandas&gt;&lt;numpy&gt;&lt;dataframe&gt;&lt;series&gt;</td>\n",
       "      <td>40101130</td>\n",
       "    </tr>\n",
       "    <tr>\n",
       "      <th>1</th>\n",
       "      <td>Better techniques for trimming leading zeros i...</td>\n",
       "      <td>I've been using this for some time:\\nSUBSTRING...</td>\n",
       "      <td>&lt;sql&gt;&lt;sql-server&gt;&lt;sql-server-2005&gt;&lt;tsql&gt;&lt;string&gt;</td>\n",
       "      <td>662383</td>\n",
       "    </tr>\n",
       "    <tr>\n",
       "      <th>2</th>\n",
       "      <td>\"No X11 DISPLAY variable\" - what does it mean?</td>\n",
       "      <td>I am trying to install a Java application on m...</td>\n",
       "      <td>&lt;java&gt;&lt;linux&gt;&lt;variables&gt;&lt;x11&gt;&lt;headless&gt;</td>\n",
       "      <td>662421</td>\n",
       "    </tr>\n",
       "    <tr>\n",
       "      <th>3</th>\n",
       "      <td>Object-Oriented Callbacks for C++?</td>\n",
       "      <td>Is there some library that allows me to easily...</td>\n",
       "      <td>&lt;c++&gt;&lt;oop&gt;&lt;callback&gt;&lt;pointer-to-member&gt;&lt;eiffel&gt;</td>\n",
       "      <td>3520133</td>\n",
       "    </tr>\n",
       "    <tr>\n",
       "      <th>4</th>\n",
       "      <td>Why doesn't .NET find the OpenSSL.NET dll?</td>\n",
       "      <td>EDIT (the whole question, it was too unclear)\\...</td>\n",
       "      <td>&lt;c#&gt;&lt;.net&gt;&lt;dll&gt;&lt;dllimport&gt;&lt;dllnotfoundexception&gt;</td>\n",
       "      <td>1396164</td>\n",
       "    </tr>\n",
       "  </tbody>\n",
       "</table>\n",
       "</div>"
      ],
      "text/plain": [
       "                                               Title  \\\n",
       "0                how do I calculate a rolling idxmax   \n",
       "1  Better techniques for trimming leading zeros i...   \n",
       "2     \"No X11 DISPLAY variable\" - what does it mean?   \n",
       "3                 Object-Oriented Callbacks for C++?   \n",
       "4         Why doesn't .NET find the OpenSSL.NET dll?   \n",
       "\n",
       "                                                Body  \\\n",
       "0  consider the pd.Series s\\nimport pandas as pd\\...   \n",
       "1  I've been using this for some time:\\nSUBSTRING...   \n",
       "2  I am trying to install a Java application on m...   \n",
       "3  Is there some library that allows me to easily...   \n",
       "4  EDIT (the whole question, it was too unclear)\\...   \n",
       "\n",
       "                                               Tags        Id  \n",
       "0        <python><pandas><numpy><dataframe><series>  40101130  \n",
       "1  <sql><sql-server><sql-server-2005><tsql><string>    662383  \n",
       "2           <java><linux><variables><x11><headless>    662421  \n",
       "3   <c++><oop><callback><pointer-to-member><eiffel>   3520133  \n",
       "4  <c#><.net><dll><dllimport><dllnotfoundexception>   1396164  "
      ]
     },
     "execution_count": 8,
     "metadata": {},
     "output_type": "execute_result"
    }
   ],
   "source": [
    "data.head()\n"
   ]
  },
  {
   "cell_type": "code",
   "execution_count": 9,
   "metadata": {},
   "outputs": [
    {
     "data": {
      "text/html": [
       "<div>\n",
       "<style scoped>\n",
       "    .dataframe tbody tr th:only-of-type {\n",
       "        vertical-align: middle;\n",
       "    }\n",
       "\n",
       "    .dataframe tbody tr th {\n",
       "        vertical-align: top;\n",
       "    }\n",
       "\n",
       "    .dataframe thead th {\n",
       "        text-align: right;\n",
       "    }\n",
       "</style>\n",
       "<table border=\"1\" class=\"dataframe\">\n",
       "  <thead>\n",
       "    <tr style=\"text-align: right;\">\n",
       "      <th></th>\n",
       "      <th>Title</th>\n",
       "      <th>Body</th>\n",
       "      <th>Tags</th>\n",
       "      <th>Id</th>\n",
       "    </tr>\n",
       "  </thead>\n",
       "  <tbody>\n",
       "    <tr>\n",
       "      <th>0</th>\n",
       "      <td>how do I calculate a rolling idxmax</td>\n",
       "      <td>consider the pd.Series s\\nimport pandas as pd\\...</td>\n",
       "      <td>[python, pandas, numpy, dataframe, series]</td>\n",
       "      <td>40101130</td>\n",
       "    </tr>\n",
       "    <tr>\n",
       "      <th>1</th>\n",
       "      <td>Better techniques for trimming leading zeros i...</td>\n",
       "      <td>I've been using this for some time:\\nSUBSTRING...</td>\n",
       "      <td>[sql, sql-server, sql-server-2005, tsql, string]</td>\n",
       "      <td>662383</td>\n",
       "    </tr>\n",
       "    <tr>\n",
       "      <th>2</th>\n",
       "      <td>\"No X11 DISPLAY variable\" - what does it mean?</td>\n",
       "      <td>I am trying to install a Java application on m...</td>\n",
       "      <td>[java, linux, variables, x11, headless]</td>\n",
       "      <td>662421</td>\n",
       "    </tr>\n",
       "    <tr>\n",
       "      <th>3</th>\n",
       "      <td>Object-Oriented Callbacks for C++?</td>\n",
       "      <td>Is there some library that allows me to easily...</td>\n",
       "      <td>[c++, oop, callback, pointer-to-member, eiffel]</td>\n",
       "      <td>3520133</td>\n",
       "    </tr>\n",
       "    <tr>\n",
       "      <th>4</th>\n",
       "      <td>Why doesn't .NET find the OpenSSL.NET dll?</td>\n",
       "      <td>EDIT (the whole question, it was too unclear)\\...</td>\n",
       "      <td>[c#, .net, dll, dllimport, dllnotfoundexception]</td>\n",
       "      <td>1396164</td>\n",
       "    </tr>\n",
       "  </tbody>\n",
       "</table>\n",
       "</div>"
      ],
      "text/plain": [
       "                                               Title  \\\n",
       "0                how do I calculate a rolling idxmax   \n",
       "1  Better techniques for trimming leading zeros i...   \n",
       "2     \"No X11 DISPLAY variable\" - what does it mean?   \n",
       "3                 Object-Oriented Callbacks for C++?   \n",
       "4         Why doesn't .NET find the OpenSSL.NET dll?   \n",
       "\n",
       "                                                Body  \\\n",
       "0  consider the pd.Series s\\nimport pandas as pd\\...   \n",
       "1  I've been using this for some time:\\nSUBSTRING...   \n",
       "2  I am trying to install a Java application on m...   \n",
       "3  Is there some library that allows me to easily...   \n",
       "4  EDIT (the whole question, it was too unclear)\\...   \n",
       "\n",
       "                                               Tags        Id  \n",
       "0        [python, pandas, numpy, dataframe, series]  40101130  \n",
       "1  [sql, sql-server, sql-server-2005, tsql, string]    662383  \n",
       "2           [java, linux, variables, x11, headless]    662421  \n",
       "3   [c++, oop, callback, pointer-to-member, eiffel]   3520133  \n",
       "4  [c#, .net, dll, dllimport, dllnotfoundexception]   1396164  "
      ]
     },
     "execution_count": 9,
     "metadata": {},
     "output_type": "execute_result"
    }
   ],
   "source": [
    "import re\n",
    "\n",
    "# Suppression des chevrons et extraction des tags\n",
    "data['Tags'] = data['Tags'].apply(lambda x: re.findall(r'<([^>]+)>', x))\n",
    "\n",
    "data.head()"
   ]
  },
  {
   "cell_type": "code",
   "execution_count": 10,
   "metadata": {},
   "outputs": [
    {
     "data": {
      "text/plain": [
       "0          [python, pandas, numpy, dataframe, series]\n",
       "1    [sql, sql-server, sql-server-2005, tsql, string]\n",
       "2             [java, linux, variables, x11, headless]\n",
       "3     [c++, oop, callback, pointer-to-member, eiffel]\n",
       "4    [c#, .net, dll, dllimport, dllnotfoundexception]\n",
       "Name: Tags, dtype: object"
      ]
     },
     "execution_count": 10,
     "metadata": {},
     "output_type": "execute_result"
    }
   ],
   "source": [
    "data['Tags'].head()"
   ]
  },
  {
   "cell_type": "code",
   "execution_count": 11,
   "metadata": {},
   "outputs": [
    {
     "data": {
      "text/html": [
       "<div>\n",
       "<style scoped>\n",
       "    .dataframe tbody tr th:only-of-type {\n",
       "        vertical-align: middle;\n",
       "    }\n",
       "\n",
       "    .dataframe tbody tr th {\n",
       "        vertical-align: top;\n",
       "    }\n",
       "\n",
       "    .dataframe thead th {\n",
       "        text-align: right;\n",
       "    }\n",
       "</style>\n",
       "<table border=\"1\" class=\"dataframe\">\n",
       "  <thead>\n",
       "    <tr style=\"text-align: right;\">\n",
       "      <th></th>\n",
       "      <th>Title</th>\n",
       "      <th>Body</th>\n",
       "      <th>Tags</th>\n",
       "      <th>Id</th>\n",
       "    </tr>\n",
       "  </thead>\n",
       "  <tbody>\n",
       "    <tr>\n",
       "      <th>0</th>\n",
       "      <td>how do I calculate a rolling idxmax</td>\n",
       "      <td>consider the pd.Series s\\nimport pandas as pd\\...</td>\n",
       "      <td>[python, pandas, numpy, dataframe, series]</td>\n",
       "      <td>40101130</td>\n",
       "    </tr>\n",
       "    <tr>\n",
       "      <th>1</th>\n",
       "      <td>Better techniques for trimming leading zeros i...</td>\n",
       "      <td>I've been using this for some time:\\nSUBSTRING...</td>\n",
       "      <td>[sql, sql-server, sql-server-2005, tsql, string]</td>\n",
       "      <td>662383</td>\n",
       "    </tr>\n",
       "    <tr>\n",
       "      <th>2</th>\n",
       "      <td>\"No X11 DISPLAY variable\" - what does it mean?</td>\n",
       "      <td>I am trying to install a Java application on m...</td>\n",
       "      <td>[java, linux, variables, x11, headless]</td>\n",
       "      <td>662421</td>\n",
       "    </tr>\n",
       "    <tr>\n",
       "      <th>3</th>\n",
       "      <td>Object-Oriented Callbacks for C++?</td>\n",
       "      <td>Is there some library that allows me to easily...</td>\n",
       "      <td>[c++, oop, callback, pointer-to-member, eiffel]</td>\n",
       "      <td>3520133</td>\n",
       "    </tr>\n",
       "    <tr>\n",
       "      <th>4</th>\n",
       "      <td>Why doesn't .NET find the OpenSSL.NET dll?</td>\n",
       "      <td>EDIT (the whole question, it was too unclear)\\...</td>\n",
       "      <td>[c#, .net, dll, dllimport, dllnotfoundexception]</td>\n",
       "      <td>1396164</td>\n",
       "    </tr>\n",
       "  </tbody>\n",
       "</table>\n",
       "</div>"
      ],
      "text/plain": [
       "                                               Title  \\\n",
       "0                how do I calculate a rolling idxmax   \n",
       "1  Better techniques for trimming leading zeros i...   \n",
       "2     \"No X11 DISPLAY variable\" - what does it mean?   \n",
       "3                 Object-Oriented Callbacks for C++?   \n",
       "4         Why doesn't .NET find the OpenSSL.NET dll?   \n",
       "\n",
       "                                                Body  \\\n",
       "0  consider the pd.Series s\\nimport pandas as pd\\...   \n",
       "1  I've been using this for some time:\\nSUBSTRING...   \n",
       "2  I am trying to install a Java application on m...   \n",
       "3  Is there some library that allows me to easily...   \n",
       "4  EDIT (the whole question, it was too unclear)\\...   \n",
       "\n",
       "                                               Tags        Id  \n",
       "0        [python, pandas, numpy, dataframe, series]  40101130  \n",
       "1  [sql, sql-server, sql-server-2005, tsql, string]    662383  \n",
       "2           [java, linux, variables, x11, headless]    662421  \n",
       "3   [c++, oop, callback, pointer-to-member, eiffel]   3520133  \n",
       "4  [c#, .net, dll, dllimport, dllnotfoundexception]   1396164  "
      ]
     },
     "execution_count": 11,
     "metadata": {},
     "output_type": "execute_result"
    }
   ],
   "source": [
    "data.head()"
   ]
  },
  {
   "cell_type": "code",
   "execution_count": 12,
   "metadata": {},
   "outputs": [],
   "source": [
    "data['Text'] = data['Title'] + ' ' + data['Body']"
   ]
  },
  {
   "cell_type": "code",
   "execution_count": null,
   "metadata": {},
   "outputs": [],
   "source": []
  },
  {
   "cell_type": "code",
   "execution_count": null,
   "metadata": {},
   "outputs": [],
   "source": []
  },
  {
   "cell_type": "code",
   "execution_count": null,
   "metadata": {},
   "outputs": [],
   "source": []
  },
  {
   "cell_type": "code",
   "execution_count": null,
   "metadata": {},
   "outputs": [],
   "source": []
  },
  {
   "cell_type": "code",
   "execution_count": 13,
   "metadata": {},
   "outputs": [
    {
     "name": "stdout",
     "output_type": "stream",
     "text": [
      "Nombre de tags différents : 18315\n",
      "\n",
      "Top 50 tags les plus fréquents :\n",
      "c#: 6464\n",
      "java: 5846\n",
      "javascript: 4876\n",
      "python: 4699\n",
      "c++: 3868\n",
      ".net: 3488\n",
      "ios: 3473\n",
      "android: 3187\n",
      "html: 2154\n",
      "php: 2005\n",
      "objective-c: 1890\n",
      "jquery: 1785\n",
      "iphone: 1705\n",
      "c: 1592\n",
      "asp.net: 1345\n",
      "sql: 1337\n",
      "css: 1303\n",
      "linux: 1267\n",
      "node.js: 1142\n",
      "spring: 1051\n",
      "performance: 1049\n",
      "swift: 1026\n",
      "windows: 1023\n",
      "ruby-on-rails: 961\n",
      "xcode: 931\n",
      "json: 913\n",
      "mysql: 911\n",
      "sql-server: 887\n",
      "multithreading: 843\n",
      "asp.net-mvc: 805\n",
      "unit-testing: 787\n",
      "database: 785\n",
      "ruby: 781\n",
      "arrays: 771\n",
      "django: 770\n",
      "wpf: 760\n",
      "macos: 738\n",
      "visual-studio: 732\n",
      "c++11: 699\n",
      "reactjs: 695\n",
      "algorithm: 692\n",
      "string: 673\n",
      "python-3.x: 592\n",
      "xml: 545\n",
      "ajax: 535\n",
      "cocoa-touch: 518\n",
      "gcc: 508\n",
      "security: 503\n",
      "angular: 496\n",
      "eclipse: 487\n"
     ]
    }
   ],
   "source": [
    "from collections import Counter\n",
    "\n",
    "# Compter les tags\n",
    "tags_counter = Counter()\n",
    "for tags in data['Tags']:\n",
    "    tags_counter.update(tags)\n",
    "\n",
    "# Nombre de tags différents\n",
    "print(\"Nombre de tags différents :\", len(tags_counter))\n",
    "\n",
    "# Obtenir les 100 tags les plus fréquents\n",
    "top_50_tags = tags_counter.most_common(50)\n",
    "print(\"\\nTop 50 tags les plus fréquents :\")\n",
    "for tag, count in top_50_tags:\n",
    "    print(f\"{tag}: {count}\")"
   ]
  },
  {
   "cell_type": "code",
   "execution_count": 14,
   "metadata": {},
   "outputs": [
    {
     "name": "stdout",
     "output_type": "stream",
     "text": [
      "Nombre de questions restantes : 43783\n"
     ]
    }
   ],
   "source": [
    "top_50_tags_set = set(tag for tag, _ in top_50_tags)\n",
    "\n",
    "# Fonction pour ne garder que les tags du top 100\n",
    "def keep_top_50_tags(tags):\n",
    "    return [tag for tag in tags if tag in top_50_tags_set]\n",
    "\n",
    "# Appliquer la fonction \n",
    "data_filtered = data.copy()\n",
    "data_filtered['Tags'] = data_filtered['Tags'].apply(keep_top_50_tags)\n",
    "\n",
    "# Filtrer les données pour ne garder que les questions ayant au moins un tag dans le top 100\n",
    "data_filtered = data_filtered[data_filtered['Tags'].apply(lambda x: len(x) > 0)].reset_index(drop=True)\n",
    "\n",
    "# Afficher le nombre de questions restantes\n",
    "print(\"Nombre de questions restantes :\", len(data_filtered))"
   ]
  },
  {
   "cell_type": "code",
   "execution_count": 15,
   "metadata": {},
   "outputs": [],
   "source": [
    "import pandas as pd\n",
    "\n",
    "# Compter le nombre de tokens dans chaque texte\n",
    "data_filtered['Token_Count'] = data_filtered['Text'].apply(lambda x: len(x.split()))"
   ]
  },
  {
   "cell_type": "code",
   "execution_count": 16,
   "metadata": {},
   "outputs": [
    {
     "data": {
      "text/plain": [
       "count    43783.000000\n",
       "mean       189.524176\n",
       "std        184.684547\n",
       "min          8.000000\n",
       "25%         87.000000\n",
       "50%        140.000000\n",
       "75%        230.000000\n",
       "max      10740.000000\n",
       "Name: Token_Count, dtype: float64"
      ]
     },
     "execution_count": 16,
     "metadata": {},
     "output_type": "execute_result"
    }
   ],
   "source": [
    "data_filtered['Token_Count'].describe()"
   ]
  },
  {
   "cell_type": "code",
   "execution_count": 17,
   "metadata": {},
   "outputs": [
    {
     "data": {
      "text/plain": [
       "3160    10740\n",
       "Name: Token_Count, dtype: int64"
      ]
     },
     "execution_count": 17,
     "metadata": {},
     "output_type": "execute_result"
    }
   ],
   "source": [
    "data_filtered.loc[data_filtered['Token_Count'] > 5000, 'Token_Count']"
   ]
  },
  {
   "cell_type": "code",
   "execution_count": 18,
   "metadata": {},
   "outputs": [],
   "source": [
    "data_filtered.drop(data_filtered.loc[data_filtered['Token_Count'] > 5000].index, inplace=True)\n",
    "data_filtered.drop(data_filtered.loc[data_filtered['Body'].str.len() > 10000].index, inplace=True)"
   ]
  },
  {
   "cell_type": "code",
   "execution_count": 19,
   "metadata": {},
   "outputs": [],
   "source": [
    "#Split to get 5000 questions\n",
    "data_filtered = data_filtered[:5000]"
   ]
  },
  {
   "cell_type": "code",
   "execution_count": 20,
   "metadata": {},
   "outputs": [],
   "source": [
    "data_filtered.reset_index(drop=True, inplace=True)"
   ]
  },
  {
   "cell_type": "code",
   "execution_count": 21,
   "metadata": {},
   "outputs": [
    {
     "data": {
      "text/html": [
       "<div>\n",
       "<style scoped>\n",
       "    .dataframe tbody tr th:only-of-type {\n",
       "        vertical-align: middle;\n",
       "    }\n",
       "\n",
       "    .dataframe tbody tr th {\n",
       "        vertical-align: top;\n",
       "    }\n",
       "\n",
       "    .dataframe thead th {\n",
       "        text-align: right;\n",
       "    }\n",
       "</style>\n",
       "<table border=\"1\" class=\"dataframe\">\n",
       "  <thead>\n",
       "    <tr style=\"text-align: right;\">\n",
       "      <th></th>\n",
       "      <th>Title</th>\n",
       "      <th>Body</th>\n",
       "      <th>Tags</th>\n",
       "      <th>Id</th>\n",
       "      <th>Text</th>\n",
       "      <th>Token_Count</th>\n",
       "    </tr>\n",
       "  </thead>\n",
       "  <tbody>\n",
       "    <tr>\n",
       "      <th>0</th>\n",
       "      <td>how do I calculate a rolling idxmax</td>\n",
       "      <td>consider the pd.Series s\\nimport pandas as pd\\...</td>\n",
       "      <td>[python]</td>\n",
       "      <td>40101130</td>\n",
       "      <td>how do I calculate a rolling idxmax consider t...</td>\n",
       "      <td>147</td>\n",
       "    </tr>\n",
       "    <tr>\n",
       "      <th>1</th>\n",
       "      <td>Better techniques for trimming leading zeros i...</td>\n",
       "      <td>I've been using this for some time:\\nSUBSTRING...</td>\n",
       "      <td>[sql, sql-server, string]</td>\n",
       "      <td>662383</td>\n",
       "      <td>Better techniques for trimming leading zeros i...</td>\n",
       "      <td>103</td>\n",
       "    </tr>\n",
       "    <tr>\n",
       "      <th>2</th>\n",
       "      <td>\"No X11 DISPLAY variable\" - what does it mean?</td>\n",
       "      <td>I am trying to install a Java application on m...</td>\n",
       "      <td>[java, linux]</td>\n",
       "      <td>662421</td>\n",
       "      <td>\"No X11 DISPLAY variable\" - what does it mean?...</td>\n",
       "      <td>166</td>\n",
       "    </tr>\n",
       "    <tr>\n",
       "      <th>3</th>\n",
       "      <td>Object-Oriented Callbacks for C++?</td>\n",
       "      <td>Is there some library that allows me to easily...</td>\n",
       "      <td>[c++]</td>\n",
       "      <td>3520133</td>\n",
       "      <td>Object-Oriented Callbacks for C++? Is there so...</td>\n",
       "      <td>206</td>\n",
       "    </tr>\n",
       "    <tr>\n",
       "      <th>4</th>\n",
       "      <td>Why doesn't .NET find the OpenSSL.NET dll?</td>\n",
       "      <td>EDIT (the whole question, it was too unclear)\\...</td>\n",
       "      <td>[c#, .net]</td>\n",
       "      <td>1396164</td>\n",
       "      <td>Why doesn't .NET find the OpenSSL.NET dll? EDI...</td>\n",
       "      <td>151</td>\n",
       "    </tr>\n",
       "    <tr>\n",
       "      <th>...</th>\n",
       "      <td>...</td>\n",
       "      <td>...</td>\n",
       "      <td>...</td>\n",
       "      <td>...</td>\n",
       "      <td>...</td>\n",
       "      <td>...</td>\n",
       "    </tr>\n",
       "    <tr>\n",
       "      <th>4995</th>\n",
       "      <td>Visual studio 2013 + .Net 4.5.1 + Edit and con...</td>\n",
       "      <td>Supposedly vs 2013 added support for edit and ...</td>\n",
       "      <td>[.net, visual-studio]</td>\n",
       "      <td>20324080</td>\n",
       "      <td>Visual studio 2013 + .Net 4.5.1 + Edit and con...</td>\n",
       "      <td>195</td>\n",
       "    </tr>\n",
       "    <tr>\n",
       "      <th>4996</th>\n",
       "      <td>How to set a default parameter for a vector &lt;s...</td>\n",
       "      <td>For example, a class named Table, with its con...</td>\n",
       "      <td>[c++, string]</td>\n",
       "      <td>1854241</td>\n",
       "      <td>How to set a default parameter for a vector &lt;s...</td>\n",
       "      <td>50</td>\n",
       "    </tr>\n",
       "    <tr>\n",
       "      <th>4997</th>\n",
       "      <td>Fast sine/cosine for ARMv7+NEON: looking for t...</td>\n",
       "      <td>Could somebody with access to an iPhone 3GS or...</td>\n",
       "      <td>[performance]</td>\n",
       "      <td>1854254</td>\n",
       "      <td>Fast sine/cosine for ARMv7+NEON: looking for t...</td>\n",
       "      <td>264</td>\n",
       "    </tr>\n",
       "    <tr>\n",
       "      <th>4998</th>\n",
       "      <td>Quicksort superiority over Heap Sort</td>\n",
       "      <td>Heap Sort has a worst case complexity of O(nlo...</td>\n",
       "      <td>[algorithm]</td>\n",
       "      <td>1853208</td>\n",
       "      <td>Quicksort superiority over Heap Sort Heap Sort...</td>\n",
       "      <td>28</td>\n",
       "    </tr>\n",
       "    <tr>\n",
       "      <th>4999</th>\n",
       "      <td>Is assert evil?</td>\n",
       "      <td>The Go language creators write:\\n\\nGo doesn't ...</td>\n",
       "      <td>[c++, c]</td>\n",
       "      <td>1854302</td>\n",
       "      <td>Is assert evil? The Go language creators write...</td>\n",
       "      <td>95</td>\n",
       "    </tr>\n",
       "  </tbody>\n",
       "</table>\n",
       "<p>5000 rows × 6 columns</p>\n",
       "</div>"
      ],
      "text/plain": [
       "                                                  Title  \\\n",
       "0                   how do I calculate a rolling idxmax   \n",
       "1     Better techniques for trimming leading zeros i...   \n",
       "2        \"No X11 DISPLAY variable\" - what does it mean?   \n",
       "3                    Object-Oriented Callbacks for C++?   \n",
       "4            Why doesn't .NET find the OpenSSL.NET dll?   \n",
       "...                                                 ...   \n",
       "4995  Visual studio 2013 + .Net 4.5.1 + Edit and con...   \n",
       "4996  How to set a default parameter for a vector <s...   \n",
       "4997  Fast sine/cosine for ARMv7+NEON: looking for t...   \n",
       "4998               Quicksort superiority over Heap Sort   \n",
       "4999                                    Is assert evil?   \n",
       "\n",
       "                                                   Body  \\\n",
       "0     consider the pd.Series s\\nimport pandas as pd\\...   \n",
       "1     I've been using this for some time:\\nSUBSTRING...   \n",
       "2     I am trying to install a Java application on m...   \n",
       "3     Is there some library that allows me to easily...   \n",
       "4     EDIT (the whole question, it was too unclear)\\...   \n",
       "...                                                 ...   \n",
       "4995  Supposedly vs 2013 added support for edit and ...   \n",
       "4996  For example, a class named Table, with its con...   \n",
       "4997  Could somebody with access to an iPhone 3GS or...   \n",
       "4998  Heap Sort has a worst case complexity of O(nlo...   \n",
       "4999  The Go language creators write:\\n\\nGo doesn't ...   \n",
       "\n",
       "                           Tags        Id  \\\n",
       "0                      [python]  40101130   \n",
       "1     [sql, sql-server, string]    662383   \n",
       "2                 [java, linux]    662421   \n",
       "3                         [c++]   3520133   \n",
       "4                    [c#, .net]   1396164   \n",
       "...                         ...       ...   \n",
       "4995      [.net, visual-studio]  20324080   \n",
       "4996              [c++, string]   1854241   \n",
       "4997              [performance]   1854254   \n",
       "4998                [algorithm]   1853208   \n",
       "4999                   [c++, c]   1854302   \n",
       "\n",
       "                                                   Text  Token_Count  \n",
       "0     how do I calculate a rolling idxmax consider t...          147  \n",
       "1     Better techniques for trimming leading zeros i...          103  \n",
       "2     \"No X11 DISPLAY variable\" - what does it mean?...          166  \n",
       "3     Object-Oriented Callbacks for C++? Is there so...          206  \n",
       "4     Why doesn't .NET find the OpenSSL.NET dll? EDI...          151  \n",
       "...                                                 ...          ...  \n",
       "4995  Visual studio 2013 + .Net 4.5.1 + Edit and con...          195  \n",
       "4996  How to set a default parameter for a vector <s...           50  \n",
       "4997  Fast sine/cosine for ARMv7+NEON: looking for t...          264  \n",
       "4998  Quicksort superiority over Heap Sort Heap Sort...           28  \n",
       "4999  Is assert evil? The Go language creators write...           95  \n",
       "\n",
       "[5000 rows x 6 columns]"
      ]
     },
     "execution_count": 21,
     "metadata": {},
     "output_type": "execute_result"
    }
   ],
   "source": [
    "data_filtered"
   ]
  },
  {
   "cell_type": "code",
   "execution_count": 22,
   "metadata": {},
   "outputs": [
    {
     "data": {
      "text/plain": [
       "(5000, 6)"
      ]
     },
     "execution_count": 22,
     "metadata": {},
     "output_type": "execute_result"
    }
   ],
   "source": [
    "data_filtered.shape"
   ]
  },
  {
   "cell_type": "code",
   "execution_count": 23,
   "metadata": {},
   "outputs": [],
   "source": [
    "def tokenizer_fct(sentence) :\n",
    "    # print(sentence)\n",
    "    sentence_clean = sentence.replace('-', ' ').replace('+', ' ').replace('/', ' ').replace('#', ' ')\n",
    "    word_tokens = word_tokenize(sentence_clean)\n",
    "    return word_tokens\n",
    "\n",
    "# Stop words\n",
    "stop_w = list(set(stopwords.words('english'))) + ['[', ']', ',', '.', ':', '?', '(', ')', \"'\", '\"', '!', ';', '``', \"''\", '...', '’', '“', '”']\n",
    "\n",
    "def stop_word_filter_fct(list_words) :\n",
    "    filtered_w = [w for w in list_words if not w in stop_w]\n",
    "    filtered_w2 = [w for w in filtered_w if len(w) > 2]\n",
    "    return filtered_w2\n",
    "\n",
    "# lower case et alpha\n",
    "def lower_start_fct(list_words) :\n",
    "    lw = [w.lower() for w in list_words if (not w.startswith(\"@\")) \n",
    "                                       and (not w.startswith(\"#\"))\n",
    "                                       and (not w.startswith(\"http\"))]\n",
    "    return lw\n",
    "\n",
    "# Lemmatizer (base d'un mot)\n",
    "def lemma_fct(list_words) :\n",
    "    lemmatizer = WordNetLemmatizer()\n",
    "    lem_w = [lemmatizer.lemmatize(w) for w in list_words]\n",
    "    return lem_w\n",
    "\n",
    "# Fonction de préparation du texte pour le bag of words avec lemmatization\n",
    "def transform_bow_lem_fct(desc_text) :\n",
    "    word_tokens = tokenizer_fct(desc_text)\n",
    "    sw = stop_word_filter_fct(word_tokens)\n",
    "    lw = lower_start_fct(sw)\n",
    "    lem_w = lemma_fct(lw)    \n",
    "    transf_desc_text = ' '.join(lem_w)\n",
    "    return transf_desc_text\n",
    "\n",
    "# Fonction de préparation du texte pour le Deep learning (USE et BERT)\n",
    "def transform_dl_fct(desc_text) :\n",
    "    word_tokens = tokenizer_fct(desc_text)\n",
    "    #sw = stop_word_filter_fct(word_tokens)\n",
    "    lw = lower_start_fct(word_tokens)\n",
    "    # lem_w = lemma_fct(lw)    \n",
    "    transf_desc_text = ' '.join(lw)\n",
    "    return transf_desc_text\n",
    "\n",
    "def transform_tiktoken(desc_text):\n",
    "    # Utilisation de tiktoken pour l'encodage\n",
    "    enc = tiktoken.get_encoding(\"cl100k_base\")\n",
    "    word_tokens = enc.encode(desc_text)\n",
    "    decoded_text = enc.decode(word_tokens)\n",
    "    # Conversion en minuscules (si nécessaire)\n",
    "    #decoded_text = decoded_text.lower()\n",
    "        \n",
    "    return decoded_text"
   ]
  },
  {
   "cell_type": "code",
   "execution_count": 24,
   "metadata": {},
   "outputs": [],
   "source": [
    "X = data_filtered['Title'].apply(transform_bow_lem_fct)\n",
    "data_bow = pd.DataFrame(X)\n",
    "data_bow['Body'] = data_filtered['Body'].apply(transform_bow_lem_fct)\n",
    "data_bow['Text'] = data_filtered['Text'].apply(transform_bow_lem_fct)\n",
    "data_bow['Tags'] = data_filtered['Tags']"
   ]
  },
  {
   "cell_type": "code",
   "execution_count": null,
   "metadata": {},
   "outputs": [],
   "source": []
  },
  {
   "cell_type": "code",
   "execution_count": 25,
   "metadata": {},
   "outputs": [],
   "source": [
    "Y = data_filtered['Title'].apply(transform_tiktoken)\n",
    "data_se = pd.DataFrame(Y)\n",
    "data_se['Body'] = data_filtered['Body'].apply(transform_tiktoken)\n",
    "data_se['Text'] = data_filtered['Text'].apply(transform_tiktoken)\n",
    "data_se['Tags'] = data_filtered['Tags']\n",
    "data_se['Token_Count'] = data_filtered['Token_Count']"
   ]
  },
  {
   "cell_type": "code",
   "execution_count": 26,
   "metadata": {},
   "outputs": [
    {
     "data": {
      "text/html": [
       "<div>\n",
       "<style scoped>\n",
       "    .dataframe tbody tr th:only-of-type {\n",
       "        vertical-align: middle;\n",
       "    }\n",
       "\n",
       "    .dataframe tbody tr th {\n",
       "        vertical-align: top;\n",
       "    }\n",
       "\n",
       "    .dataframe thead th {\n",
       "        text-align: right;\n",
       "    }\n",
       "</style>\n",
       "<table border=\"1\" class=\"dataframe\">\n",
       "  <thead>\n",
       "    <tr style=\"text-align: right;\">\n",
       "      <th></th>\n",
       "      <th>Title</th>\n",
       "      <th>Body</th>\n",
       "      <th>Text</th>\n",
       "      <th>Tags</th>\n",
       "    </tr>\n",
       "  </thead>\n",
       "  <tbody>\n",
       "    <tr>\n",
       "      <th>0</th>\n",
       "      <td>calculate rolling idxmax</td>\n",
       "      <td>consider pd.series import panda import numpy n...</td>\n",
       "      <td>calculate rolling idxmax consider pd.series im...</td>\n",
       "      <td>[python]</td>\n",
       "    </tr>\n",
       "    <tr>\n",
       "      <th>1</th>\n",
       "      <td>better technique trimming leading zero sql server</td>\n",
       "      <td>'ve using time substring str_col patindex str_...</td>\n",
       "      <td>better technique trimming leading zero sql ser...</td>\n",
       "      <td>[sql, sql-server, string]</td>\n",
       "    </tr>\n",
       "    <tr>\n",
       "      <th>2</th>\n",
       "      <td>x11 display variable mean</td>\n",
       "      <td>trying install java application linux machine ...</td>\n",
       "      <td>x11 display variable mean trying install java ...</td>\n",
       "      <td>[java, linux]</td>\n",
       "    </tr>\n",
       "    <tr>\n",
       "      <th>3</th>\n",
       "      <td>object oriented callback</td>\n",
       "      <td>library allows easily conveniently create obje...</td>\n",
       "      <td>object oriented callback library allows easily...</td>\n",
       "      <td>[c++]</td>\n",
       "    </tr>\n",
       "    <tr>\n",
       "      <th>4</th>\n",
       "      <td>why n't .net find openssl.net dll</td>\n",
       "      <td>edit whole question unclear want use openssl.n...</td>\n",
       "      <td>why n't .net find openssl.net dll edit whole q...</td>\n",
       "      <td>[c#, .net]</td>\n",
       "    </tr>\n",
       "  </tbody>\n",
       "</table>\n",
       "</div>"
      ],
      "text/plain": [
       "                                               Title  \\\n",
       "0                           calculate rolling idxmax   \n",
       "1  better technique trimming leading zero sql server   \n",
       "2                          x11 display variable mean   \n",
       "3                           object oriented callback   \n",
       "4                  why n't .net find openssl.net dll   \n",
       "\n",
       "                                                Body  \\\n",
       "0  consider pd.series import panda import numpy n...   \n",
       "1  've using time substring str_col patindex str_...   \n",
       "2  trying install java application linux machine ...   \n",
       "3  library allows easily conveniently create obje...   \n",
       "4  edit whole question unclear want use openssl.n...   \n",
       "\n",
       "                                                Text  \\\n",
       "0  calculate rolling idxmax consider pd.series im...   \n",
       "1  better technique trimming leading zero sql ser...   \n",
       "2  x11 display variable mean trying install java ...   \n",
       "3  object oriented callback library allows easily...   \n",
       "4  why n't .net find openssl.net dll edit whole q...   \n",
       "\n",
       "                        Tags  \n",
       "0                   [python]  \n",
       "1  [sql, sql-server, string]  \n",
       "2              [java, linux]  \n",
       "3                      [c++]  \n",
       "4                 [c#, .net]  "
      ]
     },
     "execution_count": 26,
     "metadata": {},
     "output_type": "execute_result"
    }
   ],
   "source": [
    "data_bow.head()"
   ]
  },
  {
   "cell_type": "code",
   "execution_count": null,
   "metadata": {},
   "outputs": [],
   "source": []
  },
  {
   "cell_type": "code",
   "execution_count": 27,
   "metadata": {},
   "outputs": [],
   "source": [
    "# Split train test\n",
    "from sklearn.model_selection import train_test_split\n",
    "\n",
    "X_train, X_test, y_train, y_test = train_test_split(data_bow[['Title','Text']], data_bow['Tags'], test_size=0.2, random_state=0)\n",
    "X_train_se, X_test_se, y_train_se, y_test_se = train_test_split(data_se[['Text','Body']], data_se['Tags'], test_size=0.2, random_state=0)"
   ]
  },
  {
   "cell_type": "code",
   "execution_count": 28,
   "metadata": {},
   "outputs": [
    {
     "data": {
      "text/html": [
       "<div>\n",
       "<style scoped>\n",
       "    .dataframe tbody tr th:only-of-type {\n",
       "        vertical-align: middle;\n",
       "    }\n",
       "\n",
       "    .dataframe tbody tr th {\n",
       "        vertical-align: top;\n",
       "    }\n",
       "\n",
       "    .dataframe thead th {\n",
       "        text-align: right;\n",
       "    }\n",
       "</style>\n",
       "<table border=\"1\" class=\"dataframe\">\n",
       "  <thead>\n",
       "    <tr style=\"text-align: right;\">\n",
       "      <th></th>\n",
       "      <th>Text</th>\n",
       "      <th>Body</th>\n",
       "    </tr>\n",
       "  </thead>\n",
       "  <tbody>\n",
       "    <tr>\n",
       "      <th>2913</th>\n",
       "      <td>Using Visual Studio Code tasks to automate C m...</td>\n",
       "      <td>I have a project written in C that has two mak...</td>\n",
       "    </tr>\n",
       "    <tr>\n",
       "      <th>3275</th>\n",
       "      <td>How to automatically append text to text copie...</td>\n",
       "      <td>In JavaScript, how can you select text on a we...</td>\n",
       "    </tr>\n",
       "    <tr>\n",
       "      <th>775</th>\n",
       "      <td>Get list of apps of all users If I want to ret...</td>\n",
       "      <td>If I want to retrieve an ApplicationInfo list ...</td>\n",
       "    </tr>\n",
       "    <tr>\n",
       "      <th>217</th>\n",
       "      <td>If two languages follow IEEE 754, will calcula...</td>\n",
       "      <td>I'm in the process of converting a program fro...</td>\n",
       "    </tr>\n",
       "    <tr>\n",
       "      <th>1245</th>\n",
       "      <td>SQLAlchemy: How to make an integer column auto...</td>\n",
       "      <td>I am using Flask extension for SQLAlchemy to d...</td>\n",
       "    </tr>\n",
       "    <tr>\n",
       "      <th>...</th>\n",
       "      <td>...</td>\n",
       "      <td>...</td>\n",
       "    </tr>\n",
       "    <tr>\n",
       "      <th>4931</th>\n",
       "      <td>WPF: How to detect Key repetition, in Key* eve...</td>\n",
       "      <td>NOTE: e.IsRepeat is confirmed to work. The pro...</td>\n",
       "    </tr>\n",
       "    <tr>\n",
       "      <th>3264</th>\n",
       "      <td>What is the most compatible way to install pyt...</td>\n",
       "      <td>I'm starting to learn python and loving it. I ...</td>\n",
       "    </tr>\n",
       "    <tr>\n",
       "      <th>1653</th>\n",
       "      <td>JUnit5: How to assert several properties of an...</td>\n",
       "      <td>I want to assert several properties of an obje...</td>\n",
       "    </tr>\n",
       "    <tr>\n",
       "      <th>2607</th>\n",
       "      <td>Browser Caching in ASP.NET application Any sug...</td>\n",
       "      <td>Any suggestions on how to do browser caching w...</td>\n",
       "    </tr>\n",
       "    <tr>\n",
       "      <th>2732</th>\n",
       "      <td>HTML: remove a:hover for images? For text link...</td>\n",
       "      <td>For text links, I have:\\nCSS:\\na:link {color: ...</td>\n",
       "    </tr>\n",
       "  </tbody>\n",
       "</table>\n",
       "<p>4000 rows × 2 columns</p>\n",
       "</div>"
      ],
      "text/plain": [
       "                                                   Text  \\\n",
       "2913  Using Visual Studio Code tasks to automate C m...   \n",
       "3275  How to automatically append text to text copie...   \n",
       "775   Get list of apps of all users If I want to ret...   \n",
       "217   If two languages follow IEEE 754, will calcula...   \n",
       "1245  SQLAlchemy: How to make an integer column auto...   \n",
       "...                                                 ...   \n",
       "4931  WPF: How to detect Key repetition, in Key* eve...   \n",
       "3264  What is the most compatible way to install pyt...   \n",
       "1653  JUnit5: How to assert several properties of an...   \n",
       "2607  Browser Caching in ASP.NET application Any sug...   \n",
       "2732  HTML: remove a:hover for images? For text link...   \n",
       "\n",
       "                                                   Body  \n",
       "2913  I have a project written in C that has two mak...  \n",
       "3275  In JavaScript, how can you select text on a we...  \n",
       "775   If I want to retrieve an ApplicationInfo list ...  \n",
       "217   I'm in the process of converting a program fro...  \n",
       "1245  I am using Flask extension for SQLAlchemy to d...  \n",
       "...                                                 ...  \n",
       "4931  NOTE: e.IsRepeat is confirmed to work. The pro...  \n",
       "3264  I'm starting to learn python and loving it. I ...  \n",
       "1653  I want to assert several properties of an obje...  \n",
       "2607  Any suggestions on how to do browser caching w...  \n",
       "2732  For text links, I have:\\nCSS:\\na:link {color: ...  \n",
       "\n",
       "[4000 rows x 2 columns]"
      ]
     },
     "execution_count": 28,
     "metadata": {},
     "output_type": "execute_result"
    }
   ],
   "source": [
    "X_train_se"
   ]
  },
  {
   "cell_type": "code",
   "execution_count": null,
   "metadata": {},
   "outputs": [],
   "source": []
  },
  {
   "cell_type": "code",
   "execution_count": 29,
   "metadata": {},
   "outputs": [
    {
     "data": {
      "text/html": [
       "<div>\n",
       "<style scoped>\n",
       "    .dataframe tbody tr th:only-of-type {\n",
       "        vertical-align: middle;\n",
       "    }\n",
       "\n",
       "    .dataframe tbody tr th {\n",
       "        vertical-align: top;\n",
       "    }\n",
       "\n",
       "    .dataframe thead th {\n",
       "        text-align: right;\n",
       "    }\n",
       "</style>\n",
       "<table border=\"1\" class=\"dataframe\">\n",
       "  <thead>\n",
       "    <tr style=\"text-align: right;\">\n",
       "      <th></th>\n",
       "      <th>Title</th>\n",
       "      <th>Text</th>\n",
       "    </tr>\n",
       "  </thead>\n",
       "  <tbody>\n",
       "    <tr>\n",
       "      <th>2913</th>\n",
       "      <td>using visual studio code task automate makefil...</td>\n",
       "      <td>using visual studio code task automate makefil...</td>\n",
       "    </tr>\n",
       "    <tr>\n",
       "      <th>3275</th>\n",
       "      <td>how automatically append text text copied java...</td>\n",
       "      <td>how automatically append text text copied java...</td>\n",
       "    </tr>\n",
       "    <tr>\n",
       "      <th>775</th>\n",
       "      <td>get list apps user</td>\n",
       "      <td>get list apps user want retrieve applicationin...</td>\n",
       "    </tr>\n",
       "    <tr>\n",
       "      <th>217</th>\n",
       "      <td>two language follow ieee 754 calculation langu...</td>\n",
       "      <td>two language follow ieee 754 calculation langu...</td>\n",
       "    </tr>\n",
       "    <tr>\n",
       "      <th>1245</th>\n",
       "      <td>sqlalchemy how make integer column auto_increm...</td>\n",
       "      <td>sqlalchemy how make integer column auto_increm...</td>\n",
       "    </tr>\n",
       "    <tr>\n",
       "      <th>...</th>\n",
       "      <td>...</td>\n",
       "      <td>...</td>\n",
       "    </tr>\n",
       "    <tr>\n",
       "      <th>4931</th>\n",
       "      <td>wpf how detect key repetition key event</td>\n",
       "      <td>wpf how detect key repetition key event note e...</td>\n",
       "    </tr>\n",
       "    <tr>\n",
       "      <th>3264</th>\n",
       "      <td>what compatible way install python module mac</td>\n",
       "      <td>what compatible way install python module mac ...</td>\n",
       "    </tr>\n",
       "    <tr>\n",
       "      <th>1653</th>\n",
       "      <td>junit5 how assert several property object sing...</td>\n",
       "      <td>junit5 how assert several property object sing...</td>\n",
       "    </tr>\n",
       "    <tr>\n",
       "      <th>2607</th>\n",
       "      <td>browser caching asp.net application</td>\n",
       "      <td>browser caching asp.net application any sugges...</td>\n",
       "    </tr>\n",
       "    <tr>\n",
       "      <th>2732</th>\n",
       "      <td>html remove hover image</td>\n",
       "      <td>html remove hover image for text link cs link ...</td>\n",
       "    </tr>\n",
       "  </tbody>\n",
       "</table>\n",
       "<p>4000 rows × 2 columns</p>\n",
       "</div>"
      ],
      "text/plain": [
       "                                                  Title  \\\n",
       "2913  using visual studio code task automate makefil...   \n",
       "3275  how automatically append text text copied java...   \n",
       "775                                  get list apps user   \n",
       "217   two language follow ieee 754 calculation langu...   \n",
       "1245  sqlalchemy how make integer column auto_increm...   \n",
       "...                                                 ...   \n",
       "4931            wpf how detect key repetition key event   \n",
       "3264      what compatible way install python module mac   \n",
       "1653  junit5 how assert several property object sing...   \n",
       "2607                browser caching asp.net application   \n",
       "2732                            html remove hover image   \n",
       "\n",
       "                                                   Text  \n",
       "2913  using visual studio code task automate makefil...  \n",
       "3275  how automatically append text text copied java...  \n",
       "775   get list apps user want retrieve applicationin...  \n",
       "217   two language follow ieee 754 calculation langu...  \n",
       "1245  sqlalchemy how make integer column auto_increm...  \n",
       "...                                                 ...  \n",
       "4931  wpf how detect key repetition key event note e...  \n",
       "3264  what compatible way install python module mac ...  \n",
       "1653  junit5 how assert several property object sing...  \n",
       "2607  browser caching asp.net application any sugges...  \n",
       "2732  html remove hover image for text link cs link ...  \n",
       "\n",
       "[4000 rows x 2 columns]"
      ]
     },
     "execution_count": 29,
     "metadata": {},
     "output_type": "execute_result"
    }
   ],
   "source": [
    "X_train"
   ]
  },
  {
   "cell_type": "code",
   "execution_count": null,
   "metadata": {},
   "outputs": [],
   "source": []
  },
  {
   "cell_type": "code",
   "execution_count": 30,
   "metadata": {},
   "outputs": [],
   "source": [
    "from sklearn.preprocessing import MultiLabelBinarizer\n",
    "\n",
    "mlb = MultiLabelBinarizer()\n",
    "y_train_encoded = mlb.fit_transform(y_train)\n",
    "y_test_encoded = mlb.transform(y_test)"
   ]
  },
  {
   "cell_type": "code",
   "execution_count": 31,
   "metadata": {},
   "outputs": [
    {
     "data": {
      "text/plain": [
       "(50,)"
      ]
     },
     "execution_count": 31,
     "metadata": {},
     "output_type": "execute_result"
    }
   ],
   "source": [
    "mlb.classes_.shape"
   ]
  },
  {
   "cell_type": "code",
   "execution_count": null,
   "metadata": {},
   "outputs": [],
   "source": []
  },
  {
   "cell_type": "code",
   "execution_count": 32,
   "metadata": {},
   "outputs": [],
   "source": [
    "from sklearn.feature_extraction.text import TfidfVectorizer\n",
    "\n",
    "ctf = TfidfVectorizer(stop_words='english', max_df=0.9, min_df=2)\n",
    "ctf_fit = ctf.fit(X_train['Title'])\n",
    "ctf_text_train = ctf.transform(X_train['Text'])\n",
    "ctf_text_test = ctf.transform(X_test['Text'])"
   ]
  },
  {
   "cell_type": "code",
   "execution_count": 33,
   "metadata": {},
   "outputs": [
    {
     "data": {
      "text/plain": [
       "2267"
      ]
     },
     "execution_count": 33,
     "metadata": {},
     "output_type": "execute_result"
    }
   ],
   "source": [
    "len(ctf_fit.vocabulary_)"
   ]
  },
  {
   "cell_type": "code",
   "execution_count": 34,
   "metadata": {},
   "outputs": [],
   "source": [
    "from sklearn.multiclass import OneVsRestClassifier\n",
    "from sklearn.linear_model import LogisticRegression"
   ]
  },
  {
   "cell_type": "code",
   "execution_count": 35,
   "metadata": {},
   "outputs": [],
   "source": [
    "ovr = OneVsRestClassifier(LogisticRegression(), n_jobs=-3)\n",
    "ovr.fit(ctf_text_train, y_train_encoded)\n",
    "y_pred_test_ctf = ovr.predict(ctf_text_test)"
   ]
  },
  {
   "cell_type": "code",
   "execution_count": 36,
   "metadata": {},
   "outputs": [],
   "source": [
    "from sklearn.metrics import jaccard_score"
   ]
  },
  {
   "cell_type": "code",
   "execution_count": 37,
   "metadata": {},
   "outputs": [
    {
     "name": "stdout",
     "output_type": "stream",
     "text": [
      "Jaccard Score ctf: 0.14732754533162903\n"
     ]
    }
   ],
   "source": [
    "score_ctf = jaccard_score(y_test_encoded, y_pred_test_ctf, average='weighted')\n",
    "\n",
    "print(\"Jaccard Score ctf:\", score_ctf)"
   ]
  },
  {
   "cell_type": "code",
   "execution_count": null,
   "metadata": {},
   "outputs": [],
   "source": []
  },
  {
   "cell_type": "code",
   "execution_count": null,
   "metadata": {},
   "outputs": [],
   "source": []
  },
  {
   "cell_type": "code",
   "execution_count": null,
   "metadata": {},
   "outputs": [],
   "source": []
  },
  {
   "cell_type": "code",
   "execution_count": 38,
   "metadata": {},
   "outputs": [
    {
     "data": {
      "text/plain": [
       "'from sklearn.model_selection import GridSearchCV\\nfrom sklearn.metrics import make_scorer\\nfrom sklearn.pipeline import Pipeline\\n\\n# Créer un classificateur OvR avec une régression logistique\\novr = OneVsRestClassifier(LogisticRegression())\\n\\n# Créer un pipeline avec TfidfVectorizer et OneVsRestClassifier\\npipeline = Pipeline([\\n    (\\'tfidf\\', TfidfVectorizer()),\\n    (\\'clf\\', ovr)\\n])\\n\\n# Définir les paramètres de la grille à optimiser\\nparam_grid = [\\n    {\\n        \\'tfidf__max_df\\': [0.9, 1.0],\\n        \\'tfidf__min_df\\': [1, 2],\\n        \\'tfidf__stop_words\\': [None, \\'english\\'],\\n        \\'clf__estimator__C\\': [0.1, 1, 10],\\n        \\'clf__estimator__penalty\\': [\\'l1\\'],\\n        \\'clf__estimator__solver\\': [\\'liblinear\\', \\'saga\\'],\\n    },\\n    {\\n        \\'tfidf__max_df\\': [0.9, 1.0],\\n        \\'tfidf__min_df\\': [1, 2],\\n        \\'tfidf__stop_words\\': [None, \\'english\\'],\\n        \\'clf__estimator__C\\': [0.1, 1, 10],\\n        \\'clf__estimator__penalty\\': [\\'l2\\'],\\n        \\'clf__estimator__solver\\': [\\'newton-cg\\', \\'lbfgs\\', \\'sag\\', \\'saga\\', \\'liblinear\\'],\\n    },\\n]\\n\\n# Utiliser le score de Jaccard pondéré pour l\\'évaluation\\njaccard_scorer = make_scorer(jaccard_score, average=\\'weighted\\')\\n\\n# Créer l\\'objet GridSearchCV\\ngrid_search = GridSearchCV(pipeline, param_grid, scoring=jaccard_scorer, cv=5, n_jobs=-3)\\n\\n# Ajuster la recherche par grille aux données\\ngrid_search.fit(X_train[\\'Text\\'], y_train_encoded)\\n\\n# Afficher les meilleurs paramètres\\nprint(\"Meilleurs paramètres trouvés:\")\\nprint(grid_search.best_params_)'"
      ]
     },
     "execution_count": 38,
     "metadata": {},
     "output_type": "execute_result"
    }
   ],
   "source": [
    "\"\"\"from sklearn.model_selection import GridSearchCV\n",
    "from sklearn.metrics import make_scorer\n",
    "from sklearn.pipeline import Pipeline\n",
    "\n",
    "# Créer un classificateur OvR avec une régression logistique\n",
    "ovr = OneVsRestClassifier(LogisticRegression())\n",
    "\n",
    "# Créer un pipeline avec TfidfVectorizer et OneVsRestClassifier\n",
    "pipeline = Pipeline([\n",
    "    ('tfidf', TfidfVectorizer()),\n",
    "    ('clf', ovr)\n",
    "])\n",
    "\n",
    "# Définir les paramètres de la grille à optimiser\n",
    "param_grid = [\n",
    "    {\n",
    "        'tfidf__max_df': [0.9, 1.0],\n",
    "        'tfidf__min_df': [1, 2],\n",
    "        'tfidf__stop_words': [None, 'english'],\n",
    "        'clf__estimator__C': [0.1, 1, 10],\n",
    "        'clf__estimator__penalty': ['l1'],\n",
    "        'clf__estimator__solver': ['liblinear', 'saga'],\n",
    "    },\n",
    "    {\n",
    "        'tfidf__max_df': [0.9, 1.0],\n",
    "        'tfidf__min_df': [1, 2],\n",
    "        'tfidf__stop_words': [None, 'english'],\n",
    "        'clf__estimator__C': [0.1, 1, 10],\n",
    "        'clf__estimator__penalty': ['l2'],\n",
    "        'clf__estimator__solver': ['newton-cg', 'lbfgs', 'sag', 'saga', 'liblinear'],\n",
    "    },\n",
    "]\n",
    "\n",
    "# Utiliser le score de Jaccard pondéré pour l'évaluation\n",
    "jaccard_scorer = make_scorer(jaccard_score, average='weighted')\n",
    "\n",
    "# Créer l'objet GridSearchCV\n",
    "grid_search = GridSearchCV(pipeline, param_grid, scoring=jaccard_scorer, cv=5, n_jobs=-3)\n",
    "\n",
    "# Ajuster la recherche par grille aux données\n",
    "grid_search.fit(X_train['Text'], y_train_encoded)\n",
    "\n",
    "# Afficher les meilleurs paramètres\n",
    "print(\"Meilleurs paramètres trouvés:\")\n",
    "print(grid_search.best_params_)\"\"\""
   ]
  },
  {
   "attachments": {},
   "cell_type": "markdown",
   "metadata": {},
   "source": [
    "best_params = {'clf__estimator__C': 10, 'clf__estimator__penalty': 'l1', 'clf__estimator__solver': 'liblinear', 'tfidf__max_df': 0.9, 'tfidf__min_df': 1, 'tfidf__stop_words': None}"
   ]
  },
  {
   "cell_type": "code",
   "execution_count": 39,
   "metadata": {},
   "outputs": [],
   "source": [
    "# Appliquer les meilleurs paramètres pour TfidfVectorizer\n",
    "tfidf = TfidfVectorizer(max_df=1.0, min_df=1, stop_words=None)\n",
    "\n",
    "# Transformer les données d'entraînement et de test\n",
    "X_train_tfidf = tfidf.fit_transform(X_train['Text'])\n",
    "X_test_tfidf = tfidf.transform(X_test['Text'])"
   ]
  },
  {
   "cell_type": "code",
   "execution_count": null,
   "metadata": {},
   "outputs": [],
   "source": []
  },
  {
   "cell_type": "code",
   "execution_count": 40,
   "metadata": {},
   "outputs": [
    {
     "data": {
      "text/plain": [
       "OneVsRestClassifier(estimator=LogisticRegression(C=10, penalty='l1',\n",
       "                                                 solver='liblinear'))"
      ]
     },
     "execution_count": 40,
     "metadata": {},
     "output_type": "execute_result"
    }
   ],
   "source": [
    "# Créer le classificateur OvR en utilisant les meilleurs paramètres\n",
    "classic = OneVsRestClassifier(LogisticRegression(C=10, penalty='l1', solver='liblinear'))\n",
    "\n",
    "# Entraîner le classificateur avec les données d'entraînement transformées\n",
    "classic.fit(X_train_tfidf, y_train_encoded)"
   ]
  },
  {
   "cell_type": "code",
   "execution_count": null,
   "metadata": {},
   "outputs": [],
   "source": []
  },
  {
   "cell_type": "code",
   "execution_count": null,
   "metadata": {},
   "outputs": [],
   "source": []
  },
  {
   "cell_type": "code",
   "execution_count": null,
   "metadata": {},
   "outputs": [],
   "source": []
  },
  {
   "cell_type": "code",
   "execution_count": 41,
   "metadata": {},
   "outputs": [
    {
     "data": {
      "text/plain": [
       "0.4225233809166425"
      ]
     },
     "execution_count": 41,
     "metadata": {},
     "output_type": "execute_result"
    }
   ],
   "source": [
    "jaccard_score(y_test_encoded, classic.predict(X_test_tfidf), average='weighted')"
   ]
  },
  {
   "cell_type": "code",
   "execution_count": null,
   "metadata": {},
   "outputs": [],
   "source": []
  },
  {
   "cell_type": "code",
   "execution_count": null,
   "metadata": {},
   "outputs": [],
   "source": []
  },
  {
   "cell_type": "code",
   "execution_count": 42,
   "metadata": {},
   "outputs": [
    {
     "name": "stdout",
     "output_type": "stream",
     "text": [
      "Exemple 479:\n",
      "Texte  : optimized implementation java.util.map java.util.set writing application memory lesser extent speed vital found profiling spend great deal time map set operation while look way call method le wondering whether anyone written come across implementation significantly improve access time memory overhead least improve thing given assumption from looking jdk source n't believe n't made faster leaner aware common collection n't believe implementation whose goal faster leaner same google collection update should noted need thread safety\n",
      "Vrais tags  : java | performance\n",
      "Tags prédits et réels  : \u001b[32mjava (0.999)\u001b[0m | \u001b[32mperformance (0.847)\u001b[0m | \u001b[33mc (0.106)\u001b[0m\n",
      "--------------------------------------------------\n",
      "Exemple 900:\n",
      "Texte  : layered database application without using orm specify need data display looking pointer information 'll make since suspect single one correct answer this hence 'll make reference linq also apologize long post let summarize question full question follows summary bll dal layered application change user interface show column say grid avoid leaking business logic layer data access layer get hold data display assuming already database let assume layered application layer user interface business logic layer bll data access layer dal database 4th layer case dal responsible constructing sql statement executing database returning data way correctly construct layer always select big let explain wondering let say want display employee active employment record active mean employment record date contains today perhaps even date set user interface case let say want send email people code bll ensures n't already sent email people already etc for bll need minimal amount data perhaps call data access layer get list active employee call get list email sent then join construct new list perhaps could done help data access layer important what important business layer really much data need perhaps need unique identifier employee list match upon say these unique identifier active n't already sent email construct dal code construct sql statement retrieve business layer need select from employee where what user interface for user would perhaps best include lot information depending want send email for instance might want include rudimentary contact information department work manager name etc. say least name email address information show how get data change dal make sure return enough data back change bll make sure return enough data object data structure returned dal back bll sent well perhaps bll n't need much change requirement impact layer beyond communicate and two world operate different data structure change would probably done and changed help user even adding column deep would order change assuming data present database already change needed one suggestion come use linq sql iqueryable dal deal type data where clause returned iqueryables bll could potentially return could construct linq query would retrieve data need the user interface code could pull column need this would work since iquerables would end actually executing query could use select new specify need even join table necessary this look messy that executes sql code even though hidden behind linq frontend but happen bll dal allowed close database connection ioc type world dal service might get disposed bit sooner code would like linq query might end exception can access disposed object looking pointer how far how dealing consider fact change leak bll dal bad solution right n't look like better please tell stupid prove wrong and note legacy system changing database schema n't scope year yet solution use orm object would essentially equivalent select n't really option large table like avoid pulling entire list layer\n",
      "Vrais tags  : c#\n",
      "Tags prédits et réels  : \u001b[33masp.net (0.653)\u001b[0m | \u001b[33msql (0.458)\u001b[0m | \u001b[32mc# (0.450)\u001b[0m | \u001b[33mdatabase (0.160)\u001b[0m\n",
      "--------------------------------------------------\n",
      "Exemple 898:\n",
      "Texte  : angular get object array array this.questions question feel connection higher source sense comfort knowing part something greater category spiritual sub question feel free unhealthy behavior impact overall well category habit sub question feel healthy fulfilling relationship category relationship sub question feel sense purpose positive outlook life category emotional well sub question feel healthy diet fueling body optimal health category eating habit sub question feel get enough rest stress level healthy category relaxation sub question feel get enough physical activity optimal health category exercise sub question feel practice self care doctor regularly category medical maintenance sub question feel satisfied income economic stability category financial sub question feel fun thing laugh enough life category play sub question feel healthy sense balance area life category work life balance sub question feel sense peace contentment home category home environment sub question feel challenged growing person category intellectual wellbeing sub question feel content see look mirror category self image sub question feel engaged work sense fulfillment job category work satisfaction sub function getdimensions need logic get object question array based id. how write map get correct object form array based\n",
      "Vrais tags  : angular | arrays | json\n",
      "Tags prédits et réels  : \u001b[33m.net (0.267)\u001b[0m | \u001b[33mc# (0.238)\u001b[0m | \u001b[33mperformance (0.126)\u001b[0m | \u001b[31marrays (0.003)\u001b[0m | \u001b[31mangular (0.001)\u001b[0m | \u001b[31mjson (0.001)\u001b[0m\n",
      "--------------------------------------------------\n",
      "Exemple 438:\n",
      "Texte  : how use nszombie xcode possible duplicate how enable nszombie xcode application crashing lot how find error nszombie could someone give step step instruction use nszombie valgrind tool find memory error reference error etc\n",
      "Vrais tags  : iphone | objective-c | xcode\n",
      "Tags prédits et réels  : \u001b[32mxcode (0.986)\u001b[0m | \u001b[33mios (0.149)\u001b[0m | \u001b[33mc++ (0.115)\u001b[0m | \u001b[33mc (0.112)\u001b[0m | \u001b[31miphone (0.037)\u001b[0m | \u001b[31mobjective-c (0.014)\u001b[0m\n",
      "--------------------------------------------------\n",
      "Exemple 943:\n",
      "Texte  : java bytecode optimizer remove useless gotos problem method compiles 8000 byte java bytecode hotspot magic limit make jit kick method exceed 8000 byte yes reasonable huge method this tokenizer loop the method library n't want require user library configure hotspot deactivate magic limit observation decompiling bytecode show eclipse java compiler generates lot pointless gotos javac even worse that gotos reachable jump obviously jump jump goto instead jump directly goto jump goto eliminated question bytecode optimizer java class file flattens pointless jump chain remove unnecessary gotos edit mean pattern like 8698 goto 8548 8701 goto obviously second goto reached jump 8701 might well direct jump second investigation questionable pattern common 4257 if_icmpne 4263 4260 goto 8704 4263 aload_0 where obviously one would like compiler reverse equal comparison equal comparison jump 8704 eliminate goto\n",
      "Vrais tags  : java\n",
      "Tags prédits et réels  : \u001b[32mjava (0.898)\u001b[0m\n",
      "--------------------------------------------------\n"
     ]
    }
   ],
   "source": [
    "import random\n",
    "from termcolor import colored\n",
    "\n",
    "\n",
    "# Utiliser predict_proba pour obtenir les probabilités des tags\n",
    "y_pred_proba = classic.predict_proba(X_test_tfidf)\n",
    "\n",
    "# Obtenir les vrais tags pour les données de test\n",
    "y_test_tags = mlb.inverse_transform(y_test_encoded)\n",
    "\n",
    "# Appliquer un seuil pour les probabilités\n",
    "threshold = 0.1\n",
    "\n",
    "# Afficher les prédictions et les vrais tags pour 10 exemples pris au hasard\n",
    "num_examples = 5\n",
    "random_examples = random.sample(range(len(X_test)), num_examples)\n",
    "\n",
    "for i in random_examples:\n",
    "    print(f\"Exemple {i + 1}:\")\n",
    "    print(f\"Texte  : {X_test.iloc[i]['Text']}\")\n",
    "    print(f\"Vrais tags  : {' | '.join(y_test_tags[i])}\")\n",
    "\n",
    "    # Extraire les tags prédits au-dessus du seuil avec leurs probabilités\n",
    "    predicted_tags_with_probs = [(mlb.classes_[j], prob) for j, prob in enumerate(y_pred_proba[i]) if prob > threshold]\n",
    "    \n",
    "    # Ajouter les tags réels qui ne sont pas déjà dans les tags prédits\n",
    "    for tag in y_test_tags[i]:\n",
    "        if tag not in [t[0] for t in predicted_tags_with_probs]:\n",
    "            prob = y_pred_proba[i][mlb.classes_.tolist().index(tag)]\n",
    "            predicted_tags_with_probs.append((tag, prob))\n",
    "\n",
    "    # Trier les tags prédits et réels par popularité et les afficher avec leurs probabilités\n",
    "    sorted_tags_with_probs = sorted(predicted_tags_with_probs, key=lambda x: x[1], reverse=True)\n",
    "    \n",
    "    colored_tags = []\n",
    "    for tag, prob in sorted_tags_with_probs:\n",
    "        if tag in y_test_tags[i] and prob > threshold:\n",
    "            colored_tags.append(colored(f\"{tag} ({prob:.3f})\", 'green'))\n",
    "        elif tag in y_test_tags[i]:\n",
    "            colored_tags.append(colored(f\"{tag} ({prob:.3f})\", 'red'))\n",
    "        else:\n",
    "            colored_tags.append(colored(f\"{tag} ({prob:.3f})\", 'yellow'))\n",
    "    \n",
    "    sorted_tags_with_probs_str = ' | '.join(colored_tags)\n",
    "    \n",
    "    print(f\"Tags prédits et réels  : {sorted_tags_with_probs_str}\")\n",
    "    print(\"-\" * 50)"
   ]
  },
  {
   "cell_type": "code",
   "execution_count": null,
   "metadata": {},
   "outputs": [],
   "source": []
  },
  {
   "cell_type": "code",
   "execution_count": null,
   "metadata": {},
   "outputs": [],
   "source": []
  },
  {
   "cell_type": "code",
   "execution_count": null,
   "metadata": {},
   "outputs": [],
   "source": []
  },
  {
   "cell_type": "code",
   "execution_count": null,
   "metadata": {},
   "outputs": [],
   "source": []
  },
  {
   "attachments": {},
   "cell_type": "markdown",
   "metadata": {},
   "source": [
    "Partie 2 : GPT-4"
   ]
  },
  {
   "cell_type": "code",
   "execution_count": 43,
   "metadata": {},
   "outputs": [],
   "source": [
    "import openai\n",
    "from openai.embeddings_utils import get_embedding"
   ]
  },
  {
   "cell_type": "code",
   "execution_count": 44,
   "metadata": {},
   "outputs": [],
   "source": [
    "openai.api_key=input(\"Enter your API key: \")"
   ]
  },
  {
   "cell_type": "code",
   "execution_count": null,
   "metadata": {},
   "outputs": [],
   "source": []
  },
  {
   "cell_type": "code",
   "execution_count": null,
   "metadata": {},
   "outputs": [],
   "source": []
  },
  {
   "cell_type": "code",
   "execution_count": null,
   "metadata": {},
   "outputs": [],
   "source": []
  },
  {
   "cell_type": "code",
   "execution_count": 45,
   "metadata": {},
   "outputs": [
    {
     "data": {
      "text/plain": [
       "'X_train_se[\\'Embedding_body\\'] = None\\nembedding_model = \"text-embedding-ada-002\"\\nfor i in range(len(X_train_se)):\\n    embedding = get_embedding(X_train_se.iloc[i][\"Body\"], engine=embedding_model)\\n    X_train_se.iat[i, X_train_se.columns.get_loc(\"Embedding_body\")] = embedding'"
      ]
     },
     "execution_count": 45,
     "metadata": {},
     "output_type": "execute_result"
    }
   ],
   "source": [
    "'''X_train_se['Embedding_body'] = None\n",
    "embedding_model = \"text-embedding-ada-002\"\n",
    "for i in range(len(X_train_se)):\n",
    "    embedding = get_embedding(X_train_se.iloc[i][\"Body\"], engine=embedding_model)\n",
    "    X_train_se.iat[i, X_train_se.columns.get_loc(\"Embedding_body\")] = embedding'''"
   ]
  },
  {
   "cell_type": "code",
   "execution_count": 46,
   "metadata": {},
   "outputs": [
    {
     "data": {
      "text/plain": [
       "'X_test_se[\\'Embedding_body\\'] = None\\nembedding_model = \"text-embedding-ada-002\"\\nfor i in range(len(X_test_se)):\\n    embedding = get_embedding(X_test_se.iloc[i][\"Body\"], engine=embedding_model)\\n    X_test_se.iat[i, X_test_se.columns.get_loc(\"Embedding_body\")] = embedding'"
      ]
     },
     "execution_count": 46,
     "metadata": {},
     "output_type": "execute_result"
    }
   ],
   "source": [
    "'''X_test_se['Embedding_body'] = None\n",
    "embedding_model = \"text-embedding-ada-002\"\n",
    "for i in range(len(X_test_se)):\n",
    "    embedding = get_embedding(X_test_se.iloc[i][\"Body\"], engine=embedding_model)\n",
    "    X_test_se.iat[i, X_test_se.columns.get_loc(\"Embedding_body\")] = embedding'''"
   ]
  },
  {
   "cell_type": "code",
   "execution_count": 47,
   "metadata": {},
   "outputs": [
    {
     "data": {
      "text/plain": [
       "'X_train_se[\\'Embedding_text\\'] = None\\nembedding_model = \"text-embedding-ada-002\"\\nfor i in range(len(X_train_se)):\\n      embedding = get_embedding(X_train_se.iloc[i][\"Text\"], engine=embedding_model)\\n      X_train_se.iat[i, X_train_se.columns.get_loc(\"Embedding_text\")] = embedding'"
      ]
     },
     "execution_count": 47,
     "metadata": {},
     "output_type": "execute_result"
    }
   ],
   "source": [
    "\"\"\"X_train_se['Embedding_text'] = None\n",
    "embedding_model = \"text-embedding-ada-002\"\n",
    "for i in range(len(X_train_se)):\n",
    "      embedding = get_embedding(X_train_se.iloc[i][\"Text\"], engine=embedding_model)\n",
    "      X_train_se.iat[i, X_train_se.columns.get_loc(\"Embedding_text\")] = embedding\"\"\""
   ]
  },
  {
   "cell_type": "code",
   "execution_count": 48,
   "metadata": {},
   "outputs": [
    {
     "data": {
      "text/plain": [
       "'X_test_se[\\'Embedding_text\\'] = None\\nembedding_model = \"text-embedding-ada-002\"\\nfor i in range(len(X_test_se)):\\n      embedding = get_embedding(X_test_se.iloc[i][\"Text\"], engine=embedding_model)\\n      X_test_se.iat[i, X_test_se.columns.get_loc(\"Embedding_text\")] = embedding'"
      ]
     },
     "execution_count": 48,
     "metadata": {},
     "output_type": "execute_result"
    }
   ],
   "source": [
    "\"\"\"X_test_se['Embedding_text'] = None\n",
    "embedding_model = \"text-embedding-ada-002\"\n",
    "for i in range(len(X_test_se)):\n",
    "      embedding = get_embedding(X_test_se.iloc[i][\"Text\"], engine=embedding_model)\n",
    "      X_test_se.iat[i, X_test_se.columns.get_loc(\"Embedding_text\")] = embedding\"\"\""
   ]
  },
  {
   "cell_type": "code",
   "execution_count": null,
   "metadata": {},
   "outputs": [],
   "source": []
  },
  {
   "cell_type": "code",
   "execution_count": 49,
   "metadata": {},
   "outputs": [
    {
     "data": {
      "text/plain": [
       "'#Save X_test_se and X_train_se\\nX_test_se.to_csv(\"lfs_data/X_test_se.csv\", index=False)\\nX_train_se.to_csv(\"lfs_data/X_train_se.csv\", index=False)'"
      ]
     },
     "execution_count": 49,
     "metadata": {},
     "output_type": "execute_result"
    }
   ],
   "source": [
    "\"\"\"#Save X_test_se and X_train_se\n",
    "X_test_se.to_csv(\"lfs_data/X_test_se.csv\", index=False)\n",
    "X_train_se.to_csv(\"lfs_data/X_train_se.csv\", index=False)\"\"\""
   ]
  },
  {
   "cell_type": "code",
   "execution_count": 50,
   "metadata": {},
   "outputs": [],
   "source": [
    "#Load X_test_se and X_train_se\n",
    "X_test_se = pd.read_csv(\"lfs_data/X_test_se.csv\")\n",
    "X_train_se = pd.read_csv(\"lfs_data/X_train_se.csv\")"
   ]
  },
  {
   "cell_type": "code",
   "execution_count": null,
   "metadata": {},
   "outputs": [],
   "source": []
  },
  {
   "cell_type": "code",
   "execution_count": 51,
   "metadata": {},
   "outputs": [
    {
     "data": {
      "text/html": [
       "<div>\n",
       "<style scoped>\n",
       "    .dataframe tbody tr th:only-of-type {\n",
       "        vertical-align: middle;\n",
       "    }\n",
       "\n",
       "    .dataframe tbody tr th {\n",
       "        vertical-align: top;\n",
       "    }\n",
       "\n",
       "    .dataframe thead th {\n",
       "        text-align: right;\n",
       "    }\n",
       "</style>\n",
       "<table border=\"1\" class=\"dataframe\">\n",
       "  <thead>\n",
       "    <tr style=\"text-align: right;\">\n",
       "      <th></th>\n",
       "      <th>Text</th>\n",
       "      <th>Body</th>\n",
       "      <th>Embedding_text</th>\n",
       "    </tr>\n",
       "  </thead>\n",
       "  <tbody>\n",
       "    <tr>\n",
       "      <th>0</th>\n",
       "      <td>Using Visual Studio Code tasks to automate C m...</td>\n",
       "      <td>I have a project written in C that has two mak...</td>\n",
       "      <td>[-0.030831696465611458, 0.006386663764715195, ...</td>\n",
       "    </tr>\n",
       "    <tr>\n",
       "      <th>1</th>\n",
       "      <td>How to automatically append text to text copie...</td>\n",
       "      <td>In JavaScript, how can you select text on a we...</td>\n",
       "      <td>[-0.010805660858750343, 0.00861301738768816, 0...</td>\n",
       "    </tr>\n",
       "    <tr>\n",
       "      <th>2</th>\n",
       "      <td>Get list of apps of all users If I want to ret...</td>\n",
       "      <td>If I want to retrieve an ApplicationInfo list ...</td>\n",
       "      <td>[0.0025181155651807785, 0.008718851022422314, ...</td>\n",
       "    </tr>\n",
       "    <tr>\n",
       "      <th>3</th>\n",
       "      <td>If two languages follow IEEE 754, will calcula...</td>\n",
       "      <td>I'm in the process of converting a program fro...</td>\n",
       "      <td>[0.0032508610747754574, -0.004044834524393082,...</td>\n",
       "    </tr>\n",
       "    <tr>\n",
       "      <th>4</th>\n",
       "      <td>SQLAlchemy: How to make an integer column auto...</td>\n",
       "      <td>I am using Flask extension for SQLAlchemy to d...</td>\n",
       "      <td>[-0.011885248124599457, 0.023266715928912163, ...</td>\n",
       "    </tr>\n",
       "    <tr>\n",
       "      <th>...</th>\n",
       "      <td>...</td>\n",
       "      <td>...</td>\n",
       "      <td>...</td>\n",
       "    </tr>\n",
       "    <tr>\n",
       "      <th>3995</th>\n",
       "      <td>WPF: How to detect Key repetition, in Key* eve...</td>\n",
       "      <td>NOTE: e.IsRepeat is confirmed to work. The pro...</td>\n",
       "      <td>[-0.013747887685894966, -0.0019125896506011486...</td>\n",
       "    </tr>\n",
       "    <tr>\n",
       "      <th>3996</th>\n",
       "      <td>What is the most compatible way to install pyt...</td>\n",
       "      <td>I'm starting to learn python and loving it. I ...</td>\n",
       "      <td>[0.004587247967720032, -0.016147112473845482, ...</td>\n",
       "    </tr>\n",
       "    <tr>\n",
       "      <th>3997</th>\n",
       "      <td>JUnit5: How to assert several properties of an...</td>\n",
       "      <td>I want to assert several properties of an obje...</td>\n",
       "      <td>[-0.013546628877520561, 0.02201327122747898, -...</td>\n",
       "    </tr>\n",
       "    <tr>\n",
       "      <th>3998</th>\n",
       "      <td>Browser Caching in ASP.NET application Any sug...</td>\n",
       "      <td>Any suggestions on how to do browser caching w...</td>\n",
       "      <td>[-0.014035265892744064, 0.029645787551999092, ...</td>\n",
       "    </tr>\n",
       "    <tr>\n",
       "      <th>3999</th>\n",
       "      <td>HTML: remove a:hover for images? For text link...</td>\n",
       "      <td>For text links, I have:\\nCSS:\\na:link {color: ...</td>\n",
       "      <td>[-0.024571796879172325, 0.029165023937821388, ...</td>\n",
       "    </tr>\n",
       "  </tbody>\n",
       "</table>\n",
       "<p>4000 rows × 3 columns</p>\n",
       "</div>"
      ],
      "text/plain": [
       "                                                   Text  \\\n",
       "0     Using Visual Studio Code tasks to automate C m...   \n",
       "1     How to automatically append text to text copie...   \n",
       "2     Get list of apps of all users If I want to ret...   \n",
       "3     If two languages follow IEEE 754, will calcula...   \n",
       "4     SQLAlchemy: How to make an integer column auto...   \n",
       "...                                                 ...   \n",
       "3995  WPF: How to detect Key repetition, in Key* eve...   \n",
       "3996  What is the most compatible way to install pyt...   \n",
       "3997  JUnit5: How to assert several properties of an...   \n",
       "3998  Browser Caching in ASP.NET application Any sug...   \n",
       "3999  HTML: remove a:hover for images? For text link...   \n",
       "\n",
       "                                                   Body  \\\n",
       "0     I have a project written in C that has two mak...   \n",
       "1     In JavaScript, how can you select text on a we...   \n",
       "2     If I want to retrieve an ApplicationInfo list ...   \n",
       "3     I'm in the process of converting a program fro...   \n",
       "4     I am using Flask extension for SQLAlchemy to d...   \n",
       "...                                                 ...   \n",
       "3995  NOTE: e.IsRepeat is confirmed to work. The pro...   \n",
       "3996  I'm starting to learn python and loving it. I ...   \n",
       "3997  I want to assert several properties of an obje...   \n",
       "3998  Any suggestions on how to do browser caching w...   \n",
       "3999  For text links, I have:\\nCSS:\\na:link {color: ...   \n",
       "\n",
       "                                         Embedding_text  \n",
       "0     [-0.030831696465611458, 0.006386663764715195, ...  \n",
       "1     [-0.010805660858750343, 0.00861301738768816, 0...  \n",
       "2     [0.0025181155651807785, 0.008718851022422314, ...  \n",
       "3     [0.0032508610747754574, -0.004044834524393082,...  \n",
       "4     [-0.011885248124599457, 0.023266715928912163, ...  \n",
       "...                                                 ...  \n",
       "3995  [-0.013747887685894966, -0.0019125896506011486...  \n",
       "3996  [0.004587247967720032, -0.016147112473845482, ...  \n",
       "3997  [-0.013546628877520561, 0.02201327122747898, -...  \n",
       "3998  [-0.014035265892744064, 0.029645787551999092, ...  \n",
       "3999  [-0.024571796879172325, 0.029165023937821388, ...  \n",
       "\n",
       "[4000 rows x 3 columns]"
      ]
     },
     "execution_count": 51,
     "metadata": {},
     "output_type": "execute_result"
    }
   ],
   "source": [
    "X_train_se"
   ]
  },
  {
   "cell_type": "code",
   "execution_count": 52,
   "metadata": {},
   "outputs": [],
   "source": [
    "from sklearn.preprocessing import MultiLabelBinarizer\n",
    "\n",
    "mlb = MultiLabelBinarizer()\n",
    "y_train_se = mlb.fit_transform(y_train_se)\n",
    "y_test_se = mlb.transform(y_test_se)"
   ]
  },
  {
   "cell_type": "code",
   "execution_count": null,
   "metadata": {},
   "outputs": [],
   "source": []
  },
  {
   "cell_type": "code",
   "execution_count": 53,
   "metadata": {},
   "outputs": [],
   "source": [
    "import numpy as np\n",
    "import ast\n",
    "\n",
    "def convert_embedding_string_to_array(embedding_string):\n",
    "    # Convertir la chaîne en liste\n",
    "    embedding_list = ast.literal_eval(embedding_string)\n",
    "    # Convertir la liste en tableau numpy\n",
    "    return np.array(embedding_list)"
   ]
  },
  {
   "cell_type": "code",
   "execution_count": 54,
   "metadata": {},
   "outputs": [
    {
     "data": {
      "text/plain": [
       "\"# Convertir les embeddings_body de chaînes de caractères en tableaux numpy\\nX_train_se['Embedding_body'] = X_train_se['Embedding_body'].apply(convert_embedding_string_to_array)\\nX_test_se['Embedding_body'] = X_test_se['Embedding_body'].apply(convert_embedding_string_to_array)\\n\\n# Empilez les embeddings dans des tableaux numpy pour l'entraînement\\nX_train_embeddings_body = np.stack(X_train_se['Embedding_body'].values)\\nX_test_embeddings_body = np.stack(X_test_se['Embedding_body'].values)\""
      ]
     },
     "execution_count": 54,
     "metadata": {},
     "output_type": "execute_result"
    }
   ],
   "source": [
    "\"\"\"# Convertir les embeddings_body de chaînes de caractères en tableaux numpy\n",
    "X_train_se['Embedding_body'] = X_train_se['Embedding_body'].apply(convert_embedding_string_to_array)\n",
    "X_test_se['Embedding_body'] = X_test_se['Embedding_body'].apply(convert_embedding_string_to_array)\n",
    "\n",
    "# Empilez les embeddings dans des tableaux numpy pour l'entraînement\n",
    "X_train_embeddings_body = np.stack(X_train_se['Embedding_body'].values)\n",
    "X_test_embeddings_body = np.stack(X_test_se['Embedding_body'].values)\"\"\""
   ]
  },
  {
   "cell_type": "code",
   "execution_count": 55,
   "metadata": {},
   "outputs": [],
   "source": [
    "# Convertir les embeddings_text de chaînes de caractères en tableaux numpy\n",
    "X_train_se['Embedding_text'] = X_train_se['Embedding_text'].apply(convert_embedding_string_to_array)\n",
    "X_test_se['Embedding_text'] = X_test_se['Embedding_text'].apply(convert_embedding_string_to_array)\n",
    "\n",
    "# Empilez les embeddings dans des tableaux numpy pour l'entraînement\n",
    "X_train_embeddings_text = np.stack(X_train_se['Embedding_text'].values)\n",
    "X_test_embeddings_text = np.stack(X_test_se['Embedding_text'].values)"
   ]
  },
  {
   "cell_type": "code",
   "execution_count": 56,
   "metadata": {},
   "outputs": [
    {
     "data": {
      "text/plain": [
       "\"# Sélectionner un modèle\\nmodel = OneVsRestClassifier(LogisticRegression(C=10, penalty='l1', solver='liblinear'), n_jobs=-3)\\n\\n# Entraîner le modèle\\nmodel.fit(X_train_embeddings_body, y_train_se)\""
      ]
     },
     "execution_count": 56,
     "metadata": {},
     "output_type": "execute_result"
    }
   ],
   "source": [
    "\"\"\"# Sélectionner un modèle\n",
    "model = OneVsRestClassifier(LogisticRegression(C=10, penalty='l1', solver='liblinear'), n_jobs=-3)\n",
    "\n",
    "# Entraîner le modèle\n",
    "model.fit(X_train_embeddings_body, y_train_se)\"\"\""
   ]
  },
  {
   "cell_type": "code",
   "execution_count": 57,
   "metadata": {},
   "outputs": [
    {
     "data": {
      "text/plain": [
       "'#save model\\nimport pickle\\npickle.dump(model, open(\"lfs_data/ovr_ada_body.pkl\", \"wb\"))'"
      ]
     },
     "execution_count": 57,
     "metadata": {},
     "output_type": "execute_result"
    }
   ],
   "source": [
    "\"\"\"#save model\n",
    "import pickle\n",
    "pickle.dump(model, open(\"lfs_data/ovr_ada_body.pkl\", \"wb\"))\"\"\""
   ]
  },
  {
   "cell_type": "code",
   "execution_count": 58,
   "metadata": {},
   "outputs": [
    {
     "data": {
      "text/plain": [
       "'#load model\\nimport pickle\\nada_body = pickle.load(open(\"lfs_data/ovr_ada_body.pkl\", \"rb\"))\\n\\n# Faire des prédictions sur l\\'ensemble de test\\ny_pred_ada_body = ada_body.predict(X_test_embeddings_body)'"
      ]
     },
     "execution_count": 58,
     "metadata": {},
     "output_type": "execute_result"
    }
   ],
   "source": [
    "\"\"\"#load model\n",
    "import pickle\n",
    "ada_body = pickle.load(open(\"lfs_data/ovr_ada_body.pkl\", \"rb\"))\n",
    "\n",
    "# Faire des prédictions sur l'ensemble de test\n",
    "y_pred_ada_body = ada_body.predict(X_test_embeddings_body)\"\"\""
   ]
  },
  {
   "cell_type": "code",
   "execution_count": 59,
   "metadata": {},
   "outputs": [
    {
     "data": {
      "text/plain": [
       "\"# Évaluer le modèle\\njaccard_score(y_test_se, y_pred_ada_body, average='weighted')\""
      ]
     },
     "execution_count": 59,
     "metadata": {},
     "output_type": "execute_result"
    }
   ],
   "source": [
    "\"\"\"# Évaluer le modèle\n",
    "jaccard_score(y_test_se, y_pred_ada_body, average='weighted')\"\"\""
   ]
  },
  {
   "cell_type": "code",
   "execution_count": 60,
   "metadata": {},
   "outputs": [
    {
     "data": {
      "text/plain": [
       "OneVsRestClassifier(estimator=LogisticRegression(C=10, penalty='l1',\n",
       "                                                 solver='liblinear'),\n",
       "                    n_jobs=-3)"
      ]
     },
     "execution_count": 60,
     "metadata": {},
     "output_type": "execute_result"
    }
   ],
   "source": [
    "import numpy as np\n",
    "\n",
    "# Sélectionner un modèle\n",
    "ada_txt = OneVsRestClassifier(LogisticRegression(C=10, penalty='l1', solver='liblinear'), n_jobs=-3)\n",
    "\n",
    "# Entraîner le modèle\n",
    "ada_txt.fit(X_train_embeddings_text, y_train_se)"
   ]
  },
  {
   "cell_type": "code",
   "execution_count": 61,
   "metadata": {},
   "outputs": [],
   "source": [
    "#Save model\n",
    "import pickle\n",
    "pickle.dump(ada_txt, open(\"lfs_data/ovr_ada_text.pkl\", \"wb\"))"
   ]
  },
  {
   "cell_type": "code",
   "execution_count": 62,
   "metadata": {},
   "outputs": [],
   "source": [
    "#load model\n",
    "import pickle\n",
    "ada_text = pickle.load(open(\"lfs_data/ovr_ada_text.pkl\", \"rb\"))"
   ]
  },
  {
   "cell_type": "code",
   "execution_count": 63,
   "metadata": {},
   "outputs": [],
   "source": [
    "# Faire des prédictions sur l'ensemble de test\n",
    "y_pred_ada_text = ada_text.predict(X_test_embeddings_text)"
   ]
  },
  {
   "cell_type": "code",
   "execution_count": 64,
   "metadata": {},
   "outputs": [
    {
     "data": {
      "text/plain": [
       "0.5302968398584846"
      ]
     },
     "execution_count": 64,
     "metadata": {},
     "output_type": "execute_result"
    }
   ],
   "source": [
    "# Évaluer le modèle\n",
    "jaccard_score(y_test_se, y_pred_ada_text, average='weighted')"
   ]
  },
  {
   "cell_type": "code",
   "execution_count": null,
   "metadata": {},
   "outputs": [],
   "source": []
  },
  {
   "cell_type": "code",
   "execution_count": null,
   "metadata": {},
   "outputs": [],
   "source": []
  },
  {
   "cell_type": "code",
   "execution_count": 65,
   "metadata": {},
   "outputs": [
    {
     "name": "stdout",
     "output_type": "stream",
     "text": [
      "Exemple 479:\n",
      "Texte  : optimized implementation java.util.map java.util.set writing application memory lesser extent speed vital found profiling spend great deal time map set operation while look way call method le wondering whether anyone written come across implementation significantly improve access time memory overhead least improve thing given assumption from looking jdk source n't believe n't made faster leaner aware common collection n't believe implementation whose goal faster leaner same google collection update should noted need thread safety\n",
      "Vrais tags  : java | performance\n",
      "Tags prédits et réels  : \u001b[32mjava (0.993)\u001b[0m | \u001b[32mperformance (0.900)\u001b[0m | \u001b[33malgorithm (0.186)\u001b[0m | \u001b[33mc# (0.181)\u001b[0m\n",
      "--------------------------------------------------\n",
      "Exemple 900:\n",
      "Texte  : layered database application without using orm specify need data display looking pointer information 'll make since suspect single one correct answer this hence 'll make reference linq also apologize long post let summarize question full question follows summary bll dal layered application change user interface show column say grid avoid leaking business logic layer data access layer get hold data display assuming already database let assume layered application layer user interface business logic layer bll data access layer dal database 4th layer case dal responsible constructing sql statement executing database returning data way correctly construct layer always select big let explain wondering let say want display employee active employment record active mean employment record date contains today perhaps even date set user interface case let say want send email people code bll ensures n't already sent email people already etc for bll need minimal amount data perhaps call data access layer get list active employee call get list email sent then join construct new list perhaps could done help data access layer important what important business layer really much data need perhaps need unique identifier employee list match upon say these unique identifier active n't already sent email construct dal code construct sql statement retrieve business layer need select from employee where what user interface for user would perhaps best include lot information depending want send email for instance might want include rudimentary contact information department work manager name etc. say least name email address information show how get data change dal make sure return enough data back change bll make sure return enough data object data structure returned dal back bll sent well perhaps bll n't need much change requirement impact layer beyond communicate and two world operate different data structure change would probably done and changed help user even adding column deep would order change assuming data present database already change needed one suggestion come use linq sql iqueryable dal deal type data where clause returned iqueryables bll could potentially return could construct linq query would retrieve data need the user interface code could pull column need this would work since iquerables would end actually executing query could use select new specify need even join table necessary this look messy that executes sql code even though hidden behind linq frontend but happen bll dal allowed close database connection ioc type world dal service might get disposed bit sooner code would like linq query might end exception can access disposed object looking pointer how far how dealing consider fact change leak bll dal bad solution right n't look like better please tell stupid prove wrong and note legacy system changing database schema n't scope year yet solution use orm object would essentially equivalent select n't really option large table like avoid pulling entire list layer\n",
      "Vrais tags  : c#\n",
      "Tags prédits et réels  : \u001b[32mc# (0.928)\u001b[0m | \u001b[33m.net (0.576)\u001b[0m | \u001b[33mdatabase (0.153)\u001b[0m\n",
      "--------------------------------------------------\n",
      "Exemple 898:\n",
      "Texte  : angular get object array array this.questions question feel connection higher source sense comfort knowing part something greater category spiritual sub question feel free unhealthy behavior impact overall well category habit sub question feel healthy fulfilling relationship category relationship sub question feel sense purpose positive outlook life category emotional well sub question feel healthy diet fueling body optimal health category eating habit sub question feel get enough rest stress level healthy category relaxation sub question feel get enough physical activity optimal health category exercise sub question feel practice self care doctor regularly category medical maintenance sub question feel satisfied income economic stability category financial sub question feel fun thing laugh enough life category play sub question feel healthy sense balance area life category work life balance sub question feel sense peace contentment home category home environment sub question feel challenged growing person category intellectual wellbeing sub question feel content see look mirror category self image sub question feel engaged work sense fulfillment job category work satisfaction sub function getdimensions need logic get object question array based id. how write map get correct object form array based\n",
      "Vrais tags  : angular | arrays | json\n",
      "Tags prédits et réels  : \u001b[33mjavascript (0.843)\u001b[0m | \u001b[32mangular (0.364)\u001b[0m | \u001b[32marrays (0.137)\u001b[0m | \u001b[31mjson (0.023)\u001b[0m\n",
      "--------------------------------------------------\n",
      "Exemple 438:\n",
      "Texte  : how use nszombie xcode possible duplicate how enable nszombie xcode application crashing lot how find error nszombie could someone give step step instruction use nszombie valgrind tool find memory error reference error etc\n",
      "Vrais tags  : iphone | objective-c | xcode\n",
      "Tags prédits et réels  : \u001b[32mobjective-c (0.283)\u001b[0m | \u001b[32mxcode (0.266)\u001b[0m | \u001b[33mmacos (0.145)\u001b[0m | \u001b[32miphone (0.121)\u001b[0m\n",
      "--------------------------------------------------\n",
      "Exemple 943:\n",
      "Texte  : java bytecode optimizer remove useless gotos problem method compiles 8000 byte java bytecode hotspot magic limit make jit kick method exceed 8000 byte yes reasonable huge method this tokenizer loop the method library n't want require user library configure hotspot deactivate magic limit observation decompiling bytecode show eclipse java compiler generates lot pointless gotos javac even worse that gotos reachable jump obviously jump jump goto instead jump directly goto jump goto eliminated question bytecode optimizer java class file flattens pointless jump chain remove unnecessary gotos edit mean pattern like 8698 goto 8548 8701 goto obviously second goto reached jump 8701 might well direct jump second investigation questionable pattern common 4257 if_icmpne 4263 4260 goto 8704 4263 aload_0 where obviously one would like compiler reverse equal comparison equal comparison jump 8704 eliminate goto\n",
      "Vrais tags  : java\n",
      "Tags prédits et réels  : \u001b[32mjava (0.946)\u001b[0m | \u001b[33mc# (0.258)\u001b[0m | \u001b[33mperformance (0.127)\u001b[0m | \u001b[33mgcc (0.104)\u001b[0m\n",
      "--------------------------------------------------\n"
     ]
    }
   ],
   "source": [
    "import random\n",
    "from termcolor import colored\n",
    "\n",
    "\n",
    "# Utiliser predict_proba pour obtenir les probabilités des tags\n",
    "y_pred_proba = ada_text.predict_proba(X_test_embeddings_text)\n",
    "\n",
    "# Obtenir les vrais tags pour les données de test\n",
    "y_test_tags = mlb.inverse_transform(y_test_se)\n",
    "\n",
    "# Appliquer un seuil pour les probabilités\n",
    "threshold = 0.1\n",
    "\n",
    "for i in random_examples:\n",
    "    print(f\"Exemple {i + 1}:\")\n",
    "    print(f\"Texte  : {X_test.iloc[i]['Text']}\")\n",
    "    print(f\"Vrais tags  : {' | '.join(map(str, y_test_tags[i]))}\")\n",
    "\n",
    "    # Extraire les tags prédits au-dessus du seuil avec leurs probabilités\n",
    "    predicted_tags_with_probs = [(mlb.classes_[j], prob) for j, prob in enumerate(y_pred_proba[i]) if prob > threshold]\n",
    "    \n",
    "    # Ajouter les tags réels qui ne sont pas déjà dans les tags prédits\n",
    "    for tag in y_test_tags[i]:\n",
    "        if tag not in [t[0] for t in predicted_tags_with_probs]:\n",
    "            prob = y_pred_proba[i][mlb.classes_.tolist().index(tag)]\n",
    "            predicted_tags_with_probs.append((tag, prob))\n",
    "\n",
    "    # Trier les tags prédits et réels par popularité et les afficher avec leurs probabilités\n",
    "    sorted_tags_with_probs = sorted(predicted_tags_with_probs, key=lambda x: x[1], reverse=True)\n",
    "    \n",
    "    colored_tags = []\n",
    "    for tag, prob in sorted_tags_with_probs:\n",
    "        if tag in y_test_tags[i] and prob > threshold:\n",
    "            colored_tags.append(colored(f\"{tag} ({prob:.3f})\", 'green'))\n",
    "        elif tag in y_test_tags[i]:\n",
    "            colored_tags.append(colored(f\"{tag} ({prob:.3f})\", 'red'))\n",
    "        else:\n",
    "            colored_tags.append(colored(f\"{tag} ({prob:.3f})\", 'yellow'))\n",
    "    \n",
    "    sorted_tags_with_probs_str = ' | '.join(colored_tags)\n",
    "    \n",
    "    print(f\"Tags prédits et réels  : {sorted_tags_with_probs_str}\")\n",
    "    print(\"-\" * 50)"
   ]
  },
  {
   "cell_type": "code",
   "execution_count": null,
   "metadata": {},
   "outputs": [],
   "source": []
  },
  {
   "cell_type": "code",
   "execution_count": null,
   "metadata": {},
   "outputs": [],
   "source": []
  },
  {
   "cell_type": "code",
   "execution_count": null,
   "metadata": {},
   "outputs": [],
   "source": []
  },
  {
   "cell_type": "code",
   "execution_count": null,
   "metadata": {},
   "outputs": [],
   "source": []
  },
  {
   "cell_type": "code",
   "execution_count": 66,
   "metadata": {},
   "outputs": [],
   "source": [
    "from sklearn.dummy import DummyClassifier\n",
    "from sklearn.metrics import f1_score\n",
    "\n",
    "# Créer une instance de DummyClassifier\n",
    "dummy = DummyClassifier(strategy=\"stratified\", random_state=42)\n",
    "\n",
    "# Adapter le modèle aux données d'entraînement\n",
    "dummy.fit(X_train, y_train_se) # Utiliser y_train_se directement\n",
    "\n",
    "# Prédire les tags pour les données de test\n",
    "y_pred_dummy = dummy.predict(X_test)"
   ]
  },
  {
   "cell_type": "code",
   "execution_count": 67,
   "metadata": {},
   "outputs": [
    {
     "data": {
      "text/plain": [
       "0.03599652111222306"
      ]
     },
     "execution_count": 67,
     "metadata": {},
     "output_type": "execute_result"
    }
   ],
   "source": [
    "jaccard_score(y_test_se, y_pred_dummy, average='weighted')"
   ]
  },
  {
   "cell_type": "code",
   "execution_count": null,
   "metadata": {},
   "outputs": [],
   "source": []
  },
  {
   "cell_type": "code",
   "execution_count": null,
   "metadata": {},
   "outputs": [],
   "source": []
  },
  {
   "cell_type": "code",
   "execution_count": null,
   "metadata": {},
   "outputs": [],
   "source": []
  },
  {
   "cell_type": "code",
   "execution_count": null,
   "metadata": {},
   "outputs": [],
   "source": []
  },
  {
   "cell_type": "code",
   "execution_count": 71,
   "metadata": {},
   "outputs": [
    {
     "name": "stdout",
     "output_type": "stream",
     "text": [
      "Exemple 479:\n",
      "Titre de la question  : optimized implementation java.util.map java.util.set\n",
      "Vrais tags  : java | performance\n",
      "Tags prédits par dummy: \u001b[33m.net\u001b[0m | \u001b[33mruby\u001b[0m\n",
      "Tags prédits par classic: \u001b[32mjava (0.999)\u001b[0m | \u001b[32mperformance (0.847)\u001b[0m | \u001b[33mc (0.106)\u001b[0m\n",
      "Tags prédits par ada_text: \u001b[32mjava (0.993)\u001b[0m | \u001b[32mperformance (0.900)\u001b[0m | \u001b[33malgorithm (0.186)\u001b[0m | \u001b[33mc# (0.181)\u001b[0m\n",
      "--------------------------------------------------\n",
      "Exemple 900:\n",
      "Titre de la question  : layered database application without using orm specify need data display\n",
      "Vrais tags  : c#\n",
      "Tags prédits par dummy: \u001b[33mjquery\u001b[0m\n",
      "Tags prédits par classic: \u001b[33masp.net (0.653)\u001b[0m | \u001b[33msql (0.458)\u001b[0m | \u001b[32mc# (0.450)\u001b[0m | \u001b[33mdatabase (0.160)\u001b[0m\n",
      "Tags prédits par ada_text: \u001b[32mc# (0.928)\u001b[0m | \u001b[33m.net (0.576)\u001b[0m | \u001b[33mdatabase (0.153)\u001b[0m\n",
      "--------------------------------------------------\n",
      "Exemple 898:\n",
      "Titre de la question  : angular get object array\n",
      "Vrais tags  : angular | arrays | json\n",
      "Tags prédits par dummy: \u001b[33m.net\u001b[0m | \u001b[33mphp\u001b[0m | \u001b[33msql\u001b[0m\n",
      "Tags prédits par classic: \u001b[33m.net (0.267)\u001b[0m | \u001b[33mc# (0.238)\u001b[0m | \u001b[33mperformance (0.126)\u001b[0m | \u001b[31marrays (0.003)\u001b[0m | \u001b[31mangular (0.001)\u001b[0m | \u001b[31mjson (0.001)\u001b[0m\n",
      "Tags prédits par ada_text: \u001b[33mjavascript (0.843)\u001b[0m | \u001b[32mangular (0.364)\u001b[0m | \u001b[32marrays (0.137)\u001b[0m | \u001b[31mjson (0.023)\u001b[0m\n",
      "--------------------------------------------------\n",
      "Exemple 438:\n",
      "Titre de la question  : how use nszombie xcode\n",
      "Vrais tags  : iphone | objective-c | xcode\n",
      "Tags prédits par dummy: \u001b[33mjavascript\u001b[0m | \u001b[33mphp\u001b[0m | \u001b[33mpython\u001b[0m\n",
      "Tags prédits par classic: \u001b[32mxcode (0.986)\u001b[0m | \u001b[33mios (0.149)\u001b[0m | \u001b[33mc++ (0.115)\u001b[0m | \u001b[33mc (0.112)\u001b[0m | \u001b[31miphone (0.037)\u001b[0m | \u001b[31mobjective-c (0.014)\u001b[0m\n",
      "Tags prédits par ada_text: \u001b[32mobjective-c (0.283)\u001b[0m | \u001b[32mxcode (0.266)\u001b[0m | \u001b[33mmacos (0.145)\u001b[0m | \u001b[32miphone (0.121)\u001b[0m\n",
      "--------------------------------------------------\n",
      "Exemple 943:\n",
      "Titre de la question  : java bytecode optimizer remove useless gotos\n",
      "Vrais tags  : java\n",
      "Tags prédits par dummy: \u001b[33mios\u001b[0m | \u001b[33mlinux\u001b[0m\n",
      "Tags prédits par classic: \u001b[32mjava (0.898)\u001b[0m\n",
      "Tags prédits par ada_text: \u001b[32mjava (0.946)\u001b[0m | \u001b[33mc# (0.258)\u001b[0m | \u001b[33mperformance (0.127)\u001b[0m | \u001b[33mgcc (0.104)\u001b[0m\n",
      "--------------------------------------------------\n"
     ]
    }
   ],
   "source": [
    "from termcolor import colored\n",
    "\n",
    "# Obtenir les probabilités des tags pour ada_text\n",
    "y_pred_proba_ada_text = ada_text.predict_proba(X_test_embeddings_text)\n",
    "\n",
    "# Obtenir les probabilités des tags pour classic\n",
    "y_pred_proba_classic = classic.predict_proba(X_test_tfidf)\n",
    "\n",
    "# Obtenir les tags prédits pour dummy\n",
    "y_pred_dummy = dummy.predict(X_test)\n",
    "\n",
    "# Obtenir les vrais tags pour les données de test\n",
    "y_test_tags = mlb.inverse_transform(y_test_se)\n",
    "\n",
    "# Appliquer un seuil pour les probabilités\n",
    "threshold = 0.1\n",
    "\n",
    "for i in random_examples:\n",
    "    print(f\"Exemple {i + 1}:\")\n",
    "    print(f\"Titre de la question  : {X_test.iloc[i]['Title']}\")\n",
    "    print(f\"Vrais tags  : {' | '.join(map(str, y_test_tags[i]))}\")\n",
    "\n",
    "    # Tags prédits par dummy\n",
    "    dummy_tags = mlb.inverse_transform(y_pred_dummy[i].reshape(1, -1))[0]\n",
    "    dummy_tags_colored = []\n",
    "    for tag in dummy_tags:\n",
    "        color = 'green' if tag in y_test_tags[i] else 'yellow'\n",
    "        dummy_tags_colored.append(colored(tag, color))\n",
    "    print(f\"Tags prédits par dummy: {' | '.join(dummy_tags_colored)}\")\n",
    "\n",
    "    # Tags prédits par classic\n",
    "    predicted_tags_classic = [(mlb.classes_[j], prob) for j, prob in enumerate(y_pred_proba_classic[i]) if prob > threshold]\n",
    "    for tag in y_test_tags[i]:\n",
    "        if tag not in [t[0] for t in predicted_tags_classic]:\n",
    "            prob = y_pred_proba_classic[i][mlb.classes_.tolist().index(tag)]\n",
    "            predicted_tags_classic.append((tag, prob))\n",
    "    sorted_tags_classic = sorted(predicted_tags_classic, key=lambda x: x[1], reverse=True)\n",
    "    colored_tags_classic = []\n",
    "    for tag, prob in sorted_tags_classic:\n",
    "        if tag in y_test_tags[i] and prob > threshold:\n",
    "            colored_tags_classic.append(colored(f\"{tag} ({prob:.3f})\", 'green'))\n",
    "        elif tag in y_test_tags[i]:\n",
    "            colored_tags_classic.append(colored(f\"{tag} ({prob:.3f})\", 'red'))\n",
    "        else:\n",
    "            colored_tags_classic.append(colored(f\"{tag} ({prob:.3f})\", 'yellow'))\n",
    "    print(f\"Tags prédits par classic: {' | '.join(colored_tags_classic)}\")\n",
    "\n",
    "    # Tags prédits par ada_text\n",
    "    predicted_tags_ada_text = [(mlb.classes_[j], prob) for j, prob in enumerate(y_pred_proba_ada_text[i]) if prob > threshold]\n",
    "    for tag in y_test_tags[i]:\n",
    "        if tag not in [t[0] for t in predicted_tags_ada_text]:\n",
    "            prob = y_pred_proba_ada_text[i][mlb.classes_.tolist().index(tag)]\n",
    "            predicted_tags_ada_text.append((tag, prob))\n",
    "    sorted_tags_ada_text = sorted(predicted_tags_ada_text, key=lambda x: x[1], reverse=True)\n",
    "    colored_tags_ada_text = []\n",
    "    for tag, prob in sorted_tags_ada_text:\n",
    "        if tag in y_test_tags[i] and prob > threshold:\n",
    "            colored_tags_ada_text.append(colored(f\"{tag} ({prob:.3f})\", 'green'))\n",
    "        elif tag in y_test_tags[i]:\n",
    "            colored_tags_ada_text.append(colored(f\"{tag} ({prob:.3f})\", 'red'))\n",
    "        else:\n",
    "            colored_tags_ada_text.append(colored(f\"{tag} ({prob:.3f})\", 'yellow'))\n",
    "    print(f\"Tags prédits par ada_text: {' | '.join(colored_tags_ada_text)}\")\n",
    "\n",
    "    print(\"-\" * 50)\n"
   ]
  },
  {
   "cell_type": "code",
   "execution_count": null,
   "metadata": {},
   "outputs": [],
   "source": []
  },
  {
   "cell_type": "code",
   "execution_count": null,
   "metadata": {},
   "outputs": [],
   "source": []
  },
  {
   "cell_type": "code",
   "execution_count": null,
   "metadata": {},
   "outputs": [],
   "source": []
  },
  {
   "cell_type": "code",
   "execution_count": null,
   "metadata": {},
   "outputs": [],
   "source": []
  },
  {
   "cell_type": "code",
   "execution_count": null,
   "metadata": {},
   "outputs": [],
   "source": []
  }
 ],
 "metadata": {
  "kernelspec": {
   "display_name": "Python 3 (ipykernel)",
   "language": "python",
   "name": "python3"
  },
  "language_info": {
   "codemirror_mode": {
    "name": "ipython",
    "version": 3
   },
   "file_extension": ".py",
   "mimetype": "text/x-python",
   "name": "python",
   "nbconvert_exporter": "python",
   "pygments_lexer": "ipython3",
   "version": "3.10.7"
  },
  "vscode": {
   "interpreter": {
    "hash": "306c8db229f0a89c06d03772a1eff5479204b8baa09cdbdfc80c0ee3ff96995d"
   }
  }
 },
 "nbformat": 4,
 "nbformat_minor": 2
}
